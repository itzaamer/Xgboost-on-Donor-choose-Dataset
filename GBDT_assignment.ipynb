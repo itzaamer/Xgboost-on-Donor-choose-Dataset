{
 "cells": [
  {
   "cell_type": "markdown",
   "metadata": {},
   "source": [
    "# Apply GBDT on Donors Choose dataset"
   ]
  },
  {
   "cell_type": "code",
   "execution_count": 1,
   "metadata": {},
   "outputs": [
    {
     "name": "stderr",
     "output_type": "stream",
     "text": [
      "[nltk_data] Downloading package vader_lexicon to\n",
      "[nltk_data]     C:\\Users\\imran\\AppData\\Roaming\\nltk_data...\n",
      "[nltk_data]   Package vader_lexicon is already up-to-date!\n"
     ]
    }
   ],
   "source": [
    "import warnings \n",
    "warnings.filterwarnings(\"ignore\") \n",
    "\n",
    "import pandas as pd\n",
    "import numpy as np\n",
    "\n",
    "from tqdm import tqdm\n",
    "from sklearn.feature_extraction.text import TfidfVectorizer\n",
    "from sklearn.feature_extraction.text import CountVectorizer\n",
    "from sklearn.model_selection import train_test_split\n",
    "from sklearn.preprocessing import StandardScaler, Normalizer\n",
    "from sklearn.model_selection import GridSearchCV\n",
    "from prettytable import PrettyTable\n",
    "from sklearn.metrics import roc_curve, auc, confusion_matrix\n",
    "import matplotlib.pyplot as plt\n",
    "from wordcloud import WordCloud, STOPWORDS\n",
    "\n",
    "from scipy.sparse import hstack\n",
    "from sklearn.tree import DecisionTreeClassifier\n",
    "import seaborn as sns\n",
    "sns.set()\n",
    "\n",
    "import pickle\n",
    "import nltk\n",
    "nltk.download('vader_lexicon')\n",
    "from nltk.sentiment.vader import SentimentIntensityAnalyzer\n",
    "\n",
    "from sklearn.svm import LinearSVC\n",
    "from sklearn.model_selection import RandomizedSearchCV\n",
    "from scipy.stats import expon\n",
    "\n",
    "from collections import Counter\n",
    "from xgboost import XGBClassifier\n",
    "from sklearn.metrics import roc_auc_score"
   ]
  },
  {
   "cell_type": "code",
   "execution_count": 2,
   "metadata": {},
   "outputs": [],
   "source": [
    "project_data = pd.read_csv('train_data.csv')\n",
    "resource_data = pd.read_csv('resources.csv')"
   ]
  },
  {
   "cell_type": "code",
   "execution_count": 3,
   "metadata": {},
   "outputs": [
    {
     "name": "stdout",
     "output_type": "stream",
     "text": [
      "Number of data points in train data (109248, 17)\n",
      "--------------------------------------------------\n",
      "The attributes of data : ['Unnamed: 0' 'id' 'teacher_id' 'teacher_prefix' 'school_state'\n",
      " 'project_submitted_datetime' 'project_grade_category'\n",
      " 'project_subject_categories' 'project_subject_subcategories'\n",
      " 'project_title' 'project_essay_1' 'project_essay_2' 'project_essay_3'\n",
      " 'project_essay_4' 'project_resource_summary'\n",
      " 'teacher_number_of_previously_posted_projects' 'project_is_approved']\n"
     ]
    },
    {
     "data": {
      "text/html": [
       "<div>\n",
       "<style scoped>\n",
       "    .dataframe tbody tr th:only-of-type {\n",
       "        vertical-align: middle;\n",
       "    }\n",
       "\n",
       "    .dataframe tbody tr th {\n",
       "        vertical-align: top;\n",
       "    }\n",
       "\n",
       "    .dataframe thead th {\n",
       "        text-align: right;\n",
       "    }\n",
       "</style>\n",
       "<table border=\"1\" class=\"dataframe\">\n",
       "  <thead>\n",
       "    <tr style=\"text-align: right;\">\n",
       "      <th></th>\n",
       "      <th>Unnamed: 0</th>\n",
       "      <th>id</th>\n",
       "      <th>teacher_id</th>\n",
       "      <th>teacher_prefix</th>\n",
       "      <th>school_state</th>\n",
       "      <th>project_submitted_datetime</th>\n",
       "      <th>project_grade_category</th>\n",
       "      <th>project_subject_categories</th>\n",
       "      <th>project_subject_subcategories</th>\n",
       "      <th>project_title</th>\n",
       "      <th>project_essay_1</th>\n",
       "      <th>project_essay_2</th>\n",
       "      <th>project_essay_3</th>\n",
       "      <th>project_essay_4</th>\n",
       "      <th>project_resource_summary</th>\n",
       "      <th>teacher_number_of_previously_posted_projects</th>\n",
       "      <th>project_is_approved</th>\n",
       "    </tr>\n",
       "  </thead>\n",
       "  <tbody>\n",
       "    <tr>\n",
       "      <th>0</th>\n",
       "      <td>160221</td>\n",
       "      <td>p253737</td>\n",
       "      <td>c90749f5d961ff158d4b4d1e7dc665fc</td>\n",
       "      <td>Mrs.</td>\n",
       "      <td>IN</td>\n",
       "      <td>2016-12-05 13:43:57</td>\n",
       "      <td>Grades PreK-2</td>\n",
       "      <td>Literacy &amp; Language</td>\n",
       "      <td>ESL, Literacy</td>\n",
       "      <td>Educational Support for English Learners at Home</td>\n",
       "      <td>My students are English learners that are work...</td>\n",
       "      <td>\\\"The limits of your language are the limits o...</td>\n",
       "      <td>NaN</td>\n",
       "      <td>NaN</td>\n",
       "      <td>My students need opportunities to practice beg...</td>\n",
       "      <td>0</td>\n",
       "      <td>0</td>\n",
       "    </tr>\n",
       "    <tr>\n",
       "      <th>1</th>\n",
       "      <td>140945</td>\n",
       "      <td>p258326</td>\n",
       "      <td>897464ce9ddc600bced1151f324dd63a</td>\n",
       "      <td>Mr.</td>\n",
       "      <td>FL</td>\n",
       "      <td>2016-10-25 09:22:10</td>\n",
       "      <td>Grades 6-8</td>\n",
       "      <td>History &amp; Civics, Health &amp; Sports</td>\n",
       "      <td>Civics &amp; Government, Team Sports</td>\n",
       "      <td>Wanted: Projector for Hungry Learners</td>\n",
       "      <td>Our students arrive to our school eager to lea...</td>\n",
       "      <td>The projector we need for our school is very c...</td>\n",
       "      <td>NaN</td>\n",
       "      <td>NaN</td>\n",
       "      <td>My students need a projector to help with view...</td>\n",
       "      <td>7</td>\n",
       "      <td>1</td>\n",
       "    </tr>\n",
       "  </tbody>\n",
       "</table>\n",
       "</div>"
      ],
      "text/plain": [
       "   Unnamed: 0       id                        teacher_id teacher_prefix  \\\n",
       "0      160221  p253737  c90749f5d961ff158d4b4d1e7dc665fc           Mrs.   \n",
       "1      140945  p258326  897464ce9ddc600bced1151f324dd63a            Mr.   \n",
       "\n",
       "  school_state project_submitted_datetime project_grade_category  \\\n",
       "0           IN        2016-12-05 13:43:57          Grades PreK-2   \n",
       "1           FL        2016-10-25 09:22:10             Grades 6-8   \n",
       "\n",
       "          project_subject_categories     project_subject_subcategories  \\\n",
       "0                Literacy & Language                     ESL, Literacy   \n",
       "1  History & Civics, Health & Sports  Civics & Government, Team Sports   \n",
       "\n",
       "                                      project_title  \\\n",
       "0  Educational Support for English Learners at Home   \n",
       "1             Wanted: Projector for Hungry Learners   \n",
       "\n",
       "                                     project_essay_1  \\\n",
       "0  My students are English learners that are work...   \n",
       "1  Our students arrive to our school eager to lea...   \n",
       "\n",
       "                                     project_essay_2 project_essay_3  \\\n",
       "0  \\\"The limits of your language are the limits o...             NaN   \n",
       "1  The projector we need for our school is very c...             NaN   \n",
       "\n",
       "  project_essay_4                           project_resource_summary  \\\n",
       "0             NaN  My students need opportunities to practice beg...   \n",
       "1             NaN  My students need a projector to help with view...   \n",
       "\n",
       "   teacher_number_of_previously_posted_projects  project_is_approved  \n",
       "0                                             0                    0  \n",
       "1                                             7                    1  "
      ]
     },
     "execution_count": 3,
     "metadata": {},
     "output_type": "execute_result"
    }
   ],
   "source": [
    "print(\"Number of data points in train data\", project_data.shape)\n",
    "print('-'*50)\n",
    "print(\"The attributes of data :\", project_data.columns.values)\n",
    "project_data.head(2)"
   ]
  },
  {
   "cell_type": "code",
   "execution_count": 4,
   "metadata": {},
   "outputs": [
    {
     "data": {
      "text/plain": [
       "1    92706\n",
       "0    16542\n",
       "Name: project_is_approved, dtype: int64"
      ]
     },
     "execution_count": 4,
     "metadata": {},
     "output_type": "execute_result"
    }
   ],
   "source": [
    "project_data.project_is_approved.value_counts()"
   ]
  },
  {
   "cell_type": "code",
   "execution_count": 5,
   "metadata": {},
   "outputs": [
    {
     "name": "stdout",
     "output_type": "stream",
     "text": [
      "Number of data points in train data (1541272, 4)\n",
      "['id' 'description' 'quantity' 'price']\n"
     ]
    },
    {
     "data": {
      "text/html": [
       "<div>\n",
       "<style scoped>\n",
       "    .dataframe tbody tr th:only-of-type {\n",
       "        vertical-align: middle;\n",
       "    }\n",
       "\n",
       "    .dataframe tbody tr th {\n",
       "        vertical-align: top;\n",
       "    }\n",
       "\n",
       "    .dataframe thead th {\n",
       "        text-align: right;\n",
       "    }\n",
       "</style>\n",
       "<table border=\"1\" class=\"dataframe\">\n",
       "  <thead>\n",
       "    <tr style=\"text-align: right;\">\n",
       "      <th></th>\n",
       "      <th>id</th>\n",
       "      <th>description</th>\n",
       "      <th>quantity</th>\n",
       "      <th>price</th>\n",
       "    </tr>\n",
       "  </thead>\n",
       "  <tbody>\n",
       "    <tr>\n",
       "      <th>0</th>\n",
       "      <td>p233245</td>\n",
       "      <td>LC652 - Lakeshore Double-Space Mobile Drying Rack</td>\n",
       "      <td>1</td>\n",
       "      <td>149.00</td>\n",
       "    </tr>\n",
       "    <tr>\n",
       "      <th>1</th>\n",
       "      <td>p069063</td>\n",
       "      <td>Bouncy Bands for Desks (Blue support pipes)</td>\n",
       "      <td>3</td>\n",
       "      <td>14.95</td>\n",
       "    </tr>\n",
       "  </tbody>\n",
       "</table>\n",
       "</div>"
      ],
      "text/plain": [
       "        id                                        description  quantity  \\\n",
       "0  p233245  LC652 - Lakeshore Double-Space Mobile Drying Rack         1   \n",
       "1  p069063        Bouncy Bands for Desks (Blue support pipes)         3   \n",
       "\n",
       "    price  \n",
       "0  149.00  \n",
       "1   14.95  "
      ]
     },
     "execution_count": 5,
     "metadata": {},
     "output_type": "execute_result"
    }
   ],
   "source": [
    "print(\"Number of data points in train data\", resource_data.shape)\n",
    "print(resource_data.columns.values)\n",
    "resource_data.head(2)"
   ]
  },
  {
   "cell_type": "code",
   "execution_count": 6,
   "metadata": {},
   "outputs": [
    {
     "data": {
      "text/plain": [
       "literacy_language                       23655\n",
       "math_science                            17072\n",
       "literacy_language_math_science          14636\n",
       "health_sports                           10177\n",
       "music_arts                               5180\n",
       "specialneeds                             4226\n",
       "literacy_language_specialneeds           3961\n",
       "appliedlearning                          3771\n",
       "math_science_literacy_language           2289\n",
       "appliedlearning_literacy_language        2191\n",
       "history_civics                           1851\n",
       "math_science_specialneeds                1840\n",
       "literacy_language_music_arts             1757\n",
       "math_science_music_arts                  1642\n",
       "appliedlearning_specialneeds             1467\n",
       "history_civics_literacy_language         1421\n",
       "health_sports_specialneeds               1391\n",
       "warmth_care_hunger                       1309\n",
       "math_science_appliedlearning             1220\n",
       "appliedlearning_math_science             1052\n",
       "literacy_language_history_civics          809\n",
       "health_sports_literacy_language           803\n",
       "appliedlearning_music_arts                758\n",
       "math_science_history_civics               652\n",
       "literacy_language_appliedlearning         636\n",
       "appliedlearning_health_sports             608\n",
       "math_science_health_sports                414\n",
       "history_civics_math_science               322\n",
       "history_civics_music_arts                 312\n",
       "specialneeds_music_arts                   302\n",
       "health_sports_math_science                271\n",
       "history_civics_specialneeds               252\n",
       "health_sports_appliedlearning             192\n",
       "appliedlearning_history_civics            178\n",
       "health_sports_music_arts                  155\n",
       "music_arts_specialneeds                   138\n",
       "literacy_language_health_sports            72\n",
       "health_sports_history_civics               43\n",
       "specialneeds_health_sports                 42\n",
       "history_civics_appliedlearning             42\n",
       "health_sports_warmth_care_hunger           23\n",
       "specialneeds_warmth_care_hunger            23\n",
       "music_arts_health_sports                   19\n",
       "music_arts_history_civics                  18\n",
       "history_civics_health_sports               13\n",
       "math_science_warmth_care_hunger            11\n",
       "music_arts_appliedlearning                 10\n",
       "appliedlearning_warmth_care_hunger         10\n",
       "literacy_language_warmth_care_hunger        9\n",
       "music_arts_warmth_care_hunger               2\n",
       "history_civics_warmth_care_hunger           1\n",
       "Name: clean_categories, dtype: int64"
      ]
     },
     "execution_count": 6,
     "metadata": {},
     "output_type": "execute_result"
    }
   ],
   "source": [
    "project_data['project_subject_categories'] = project_data['project_subject_categories'].str.replace(' The ','')\n",
    "project_data['project_subject_categories'] = project_data['project_subject_categories'].str.replace(' ','')\n",
    "project_data['project_subject_categories'] = project_data['project_subject_categories'].str.replace('&','_')\n",
    "project_data['project_subject_categories'] = project_data['project_subject_categories'].str.replace(',','_')\n",
    "project_data['project_subject_categories'] = project_data['project_subject_categories'].str.lower()\n",
    "project_data['clean_categories']=project_data['project_subject_categories']\n",
    "project_data.drop(['project_subject_categories'], axis=1, inplace=True)\n",
    "project_data['clean_categories'].value_counts()"
   ]
  },
  {
   "cell_type": "code",
   "execution_count": 7,
   "metadata": {},
   "outputs": [
    {
     "data": {
      "text/html": [
       "<div>\n",
       "<style scoped>\n",
       "    .dataframe tbody tr th:only-of-type {\n",
       "        vertical-align: middle;\n",
       "    }\n",
       "\n",
       "    .dataframe tbody tr th {\n",
       "        vertical-align: top;\n",
       "    }\n",
       "\n",
       "    .dataframe thead th {\n",
       "        text-align: right;\n",
       "    }\n",
       "</style>\n",
       "<table border=\"1\" class=\"dataframe\">\n",
       "  <thead>\n",
       "    <tr style=\"text-align: right;\">\n",
       "      <th></th>\n",
       "      <th>Unnamed: 0</th>\n",
       "      <th>id</th>\n",
       "      <th>teacher_id</th>\n",
       "      <th>teacher_prefix</th>\n",
       "      <th>school_state</th>\n",
       "      <th>project_submitted_datetime</th>\n",
       "      <th>project_grade_category</th>\n",
       "      <th>project_subject_subcategories</th>\n",
       "      <th>project_title</th>\n",
       "      <th>project_essay_1</th>\n",
       "      <th>project_essay_2</th>\n",
       "      <th>project_essay_3</th>\n",
       "      <th>project_essay_4</th>\n",
       "      <th>project_resource_summary</th>\n",
       "      <th>teacher_number_of_previously_posted_projects</th>\n",
       "      <th>project_is_approved</th>\n",
       "      <th>clean_categories</th>\n",
       "    </tr>\n",
       "  </thead>\n",
       "  <tbody>\n",
       "    <tr>\n",
       "      <th>0</th>\n",
       "      <td>160221</td>\n",
       "      <td>p253737</td>\n",
       "      <td>c90749f5d961ff158d4b4d1e7dc665fc</td>\n",
       "      <td>Mrs.</td>\n",
       "      <td>IN</td>\n",
       "      <td>2016-12-05 13:43:57</td>\n",
       "      <td>Grades PreK-2</td>\n",
       "      <td>ESL, Literacy</td>\n",
       "      <td>Educational Support for English Learners at Home</td>\n",
       "      <td>My students are English learners that are work...</td>\n",
       "      <td>\\\"The limits of your language are the limits o...</td>\n",
       "      <td>NaN</td>\n",
       "      <td>NaN</td>\n",
       "      <td>My students need opportunities to practice beg...</td>\n",
       "      <td>0</td>\n",
       "      <td>0</td>\n",
       "      <td>literacy_language</td>\n",
       "    </tr>\n",
       "  </tbody>\n",
       "</table>\n",
       "</div>"
      ],
      "text/plain": [
       "   Unnamed: 0       id                        teacher_id teacher_prefix  \\\n",
       "0      160221  p253737  c90749f5d961ff158d4b4d1e7dc665fc           Mrs.   \n",
       "\n",
       "  school_state project_submitted_datetime project_grade_category  \\\n",
       "0           IN        2016-12-05 13:43:57          Grades PreK-2   \n",
       "\n",
       "  project_subject_subcategories  \\\n",
       "0                 ESL, Literacy   \n",
       "\n",
       "                                      project_title  \\\n",
       "0  Educational Support for English Learners at Home   \n",
       "\n",
       "                                     project_essay_1  \\\n",
       "0  My students are English learners that are work...   \n",
       "\n",
       "                                     project_essay_2 project_essay_3  \\\n",
       "0  \\\"The limits of your language are the limits o...             NaN   \n",
       "\n",
       "  project_essay_4                           project_resource_summary  \\\n",
       "0             NaN  My students need opportunities to practice beg...   \n",
       "\n",
       "   teacher_number_of_previously_posted_projects  project_is_approved  \\\n",
       "0                                             0                    0   \n",
       "\n",
       "    clean_categories  \n",
       "0  literacy_language  "
      ]
     },
     "execution_count": 7,
     "metadata": {},
     "output_type": "execute_result"
    }
   ],
   "source": [
    "project_data.head(1)"
   ]
  },
  {
   "cell_type": "code",
   "execution_count": 8,
   "metadata": {},
   "outputs": [
    {
     "data": {
      "text/plain": [
       "literacy                                 9486\n",
       "literacy_mathematics                     8325\n",
       "literature_writing_mathematics           5923\n",
       "literacy_literature_writing              5571\n",
       "mathematics                              5379\n",
       "                                         ... \n",
       "other_warmth_care_hunger                    1\n",
       "esl_teamsports                              1\n",
       "literature_writing_nutritioneducation       1\n",
       "parentinvolvement_warmth_care_hunger        1\n",
       "esl_economics                               1\n",
       "Name: clean_subcategories, Length: 401, dtype: int64"
      ]
     },
     "execution_count": 8,
     "metadata": {},
     "output_type": "execute_result"
    }
   ],
   "source": [
    "project_data['project_subject_subcategories'] = project_data['project_subject_subcategories'].str.replace(' The ','')\n",
    "project_data['project_subject_subcategories'] = project_data['project_subject_subcategories'].str.replace(' ','')\n",
    "project_data['project_subject_subcategories'] = project_data['project_subject_subcategories'].str.replace('&','_')\n",
    "project_data['project_subject_subcategories'] = project_data['project_subject_subcategories'].str.replace(',','_')\n",
    "project_data['project_subject_subcategories'] = project_data['project_subject_subcategories'].str.lower()\n",
    "project_data['clean_subcategories']=project_data['project_subject_subcategories']\n",
    "project_data.drop(['project_subject_subcategories'], axis=1, inplace=True)\n",
    "project_data['clean_subcategories'].value_counts()"
   ]
  },
  {
   "cell_type": "code",
   "execution_count": 9,
   "metadata": {},
   "outputs": [
    {
     "data": {
      "text/html": [
       "<div>\n",
       "<style scoped>\n",
       "    .dataframe tbody tr th:only-of-type {\n",
       "        vertical-align: middle;\n",
       "    }\n",
       "\n",
       "    .dataframe tbody tr th {\n",
       "        vertical-align: top;\n",
       "    }\n",
       "\n",
       "    .dataframe thead th {\n",
       "        text-align: right;\n",
       "    }\n",
       "</style>\n",
       "<table border=\"1\" class=\"dataframe\">\n",
       "  <thead>\n",
       "    <tr style=\"text-align: right;\">\n",
       "      <th></th>\n",
       "      <th>Unnamed: 0</th>\n",
       "      <th>id</th>\n",
       "      <th>teacher_id</th>\n",
       "      <th>teacher_prefix</th>\n",
       "      <th>school_state</th>\n",
       "      <th>project_submitted_datetime</th>\n",
       "      <th>project_grade_category</th>\n",
       "      <th>project_title</th>\n",
       "      <th>project_essay_1</th>\n",
       "      <th>project_essay_2</th>\n",
       "      <th>project_essay_3</th>\n",
       "      <th>project_essay_4</th>\n",
       "      <th>project_resource_summary</th>\n",
       "      <th>teacher_number_of_previously_posted_projects</th>\n",
       "      <th>project_is_approved</th>\n",
       "      <th>clean_categories</th>\n",
       "      <th>clean_subcategories</th>\n",
       "    </tr>\n",
       "  </thead>\n",
       "  <tbody>\n",
       "    <tr>\n",
       "      <th>0</th>\n",
       "      <td>160221</td>\n",
       "      <td>p253737</td>\n",
       "      <td>c90749f5d961ff158d4b4d1e7dc665fc</td>\n",
       "      <td>Mrs.</td>\n",
       "      <td>IN</td>\n",
       "      <td>2016-12-05 13:43:57</td>\n",
       "      <td>Grades PreK-2</td>\n",
       "      <td>Educational Support for English Learners at Home</td>\n",
       "      <td>My students are English learners that are work...</td>\n",
       "      <td>\\\"The limits of your language are the limits o...</td>\n",
       "      <td>NaN</td>\n",
       "      <td>NaN</td>\n",
       "      <td>My students need opportunities to practice beg...</td>\n",
       "      <td>0</td>\n",
       "      <td>0</td>\n",
       "      <td>literacy_language</td>\n",
       "      <td>esl_literacy</td>\n",
       "    </tr>\n",
       "  </tbody>\n",
       "</table>\n",
       "</div>"
      ],
      "text/plain": [
       "   Unnamed: 0       id                        teacher_id teacher_prefix  \\\n",
       "0      160221  p253737  c90749f5d961ff158d4b4d1e7dc665fc           Mrs.   \n",
       "\n",
       "  school_state project_submitted_datetime project_grade_category  \\\n",
       "0           IN        2016-12-05 13:43:57          Grades PreK-2   \n",
       "\n",
       "                                      project_title  \\\n",
       "0  Educational Support for English Learners at Home   \n",
       "\n",
       "                                     project_essay_1  \\\n",
       "0  My students are English learners that are work...   \n",
       "\n",
       "                                     project_essay_2 project_essay_3  \\\n",
       "0  \\\"The limits of your language are the limits o...             NaN   \n",
       "\n",
       "  project_essay_4                           project_resource_summary  \\\n",
       "0             NaN  My students need opportunities to practice beg...   \n",
       "\n",
       "   teacher_number_of_previously_posted_projects  project_is_approved  \\\n",
       "0                                             0                    0   \n",
       "\n",
       "    clean_categories clean_subcategories  \n",
       "0  literacy_language        esl_literacy  "
      ]
     },
     "execution_count": 9,
     "metadata": {},
     "output_type": "execute_result"
    }
   ],
   "source": [
    "project_data.head(1)"
   ]
  },
  {
   "cell_type": "code",
   "execution_count": 10,
   "metadata": {},
   "outputs": [
    {
     "data": {
      "text/plain": [
       "Mrs.       57269\n",
       "Ms.        38955\n",
       "Mr.        10648\n",
       "Teacher     2360\n",
       "Dr.           13\n",
       "Name: teacher_prefix, dtype: int64"
      ]
     },
     "execution_count": 10,
     "metadata": {},
     "output_type": "execute_result"
    }
   ],
   "source": [
    "project_data['teacher_prefix'].value_counts()"
   ]
  },
  {
   "cell_type": "code",
   "execution_count": 11,
   "metadata": {},
   "outputs": [
    {
     "name": "stdout",
     "output_type": "stream",
     "text": [
      "True\n",
      "number of nan values 3\n"
     ]
    }
   ],
   "source": [
    "# check if we have any nan values are there\n",
    "print(project_data['teacher_prefix'].isnull().values.any())\n",
    "print(\"number of nan values\",project_data['teacher_prefix'].isnull().values.sum())"
   ]
  },
  {
   "cell_type": "code",
   "execution_count": 12,
   "metadata": {},
   "outputs": [],
   "source": [
    "project_data['teacher_prefix']=project_data['teacher_prefix'].fillna('Mrs.')"
   ]
  },
  {
   "cell_type": "code",
   "execution_count": 13,
   "metadata": {},
   "outputs": [
    {
     "data": {
      "text/plain": [
       "mrs        57272\n",
       "ms         38955\n",
       "mr         10648\n",
       "teacher     2360\n",
       "dr            13\n",
       "Name: teacher_prefix, dtype: int64"
      ]
     },
     "execution_count": 13,
     "metadata": {},
     "output_type": "execute_result"
    }
   ],
   "source": [
    "# Remove '.'\n",
    "# convert all the chars to small\n",
    "project_data['teacher_prefix'] = project_data['teacher_prefix'].str.replace('.','')\n",
    "project_data['teacher_prefix'] = project_data['teacher_prefix'].str.lower()\n",
    "project_data['teacher_prefix'].value_counts()"
   ]
  },
  {
   "cell_type": "code",
   "execution_count": 14,
   "metadata": {},
   "outputs": [],
   "source": [
    "# We need to get rid of The spaces between the text and the hyphens because they're special characters.\n",
    "#Rmoving multiple characters from a string in Python\n",
    "#https://stackoverflow.com/questions/3411771/multiple-character-replace-with-python\n",
    "\n",
    "project_grade_category = []\n",
    "\n",
    "for i in range(len(project_data)):\n",
    "    a = project_data[\"project_grade_category\"][i].replace(\" \", \"_\").replace(\"-\", \"_\")\n",
    "    project_grade_category.append(a)"
   ]
  },
  {
   "cell_type": "code",
   "execution_count": 15,
   "metadata": {},
   "outputs": [
    {
     "name": "stdout",
     "output_type": "stream",
     "text": [
      "After removing the special characters ,Column values:  \n"
     ]
    },
    {
     "data": {
      "text/plain": [
       "array(['Grades_3_5', 'Grades_6_8', 'Grades_9_12', 'Grades_PreK_2'],\n",
       "      dtype=object)"
      ]
     },
     "execution_count": 15,
     "metadata": {},
     "output_type": "execute_result"
    }
   ],
   "source": [
    "project_data.drop(['project_grade_category'], axis = 1, inplace = True)\n",
    "project_data[\"project_grade_category\"] = project_grade_category \n",
    "print(\"After removing the special characters ,Column values:  \")\n",
    "np.unique(project_data[\"project_grade_category\"].values)"
   ]
  },
  {
   "cell_type": "code",
   "execution_count": 16,
   "metadata": {},
   "outputs": [
    {
     "data": {
      "text/plain": [
       "ca    15388\n",
       "tx     7396\n",
       "ny     7318\n",
       "fl     6185\n",
       "nc     5091\n",
       "il     4350\n",
       "ga     3963\n",
       "sc     3936\n",
       "mi     3161\n",
       "pa     3109\n",
       "in     2620\n",
       "mo     2576\n",
       "oh     2467\n",
       "la     2394\n",
       "ma     2389\n",
       "wa     2334\n",
       "ok     2276\n",
       "nj     2237\n",
       "az     2147\n",
       "va     2045\n",
       "wi     1827\n",
       "al     1762\n",
       "ut     1731\n",
       "tn     1688\n",
       "ct     1663\n",
       "md     1514\n",
       "nv     1367\n",
       "ms     1323\n",
       "ky     1304\n",
       "or     1242\n",
       "mn     1208\n",
       "co     1111\n",
       "ar     1049\n",
       "id      693\n",
       "ia      666\n",
       "ks      634\n",
       "nm      557\n",
       "dc      516\n",
       "hi      507\n",
       "me      505\n",
       "wv      503\n",
       "nh      348\n",
       "ak      345\n",
       "de      343\n",
       "ne      309\n",
       "sd      300\n",
       "ri      285\n",
       "mt      245\n",
       "nd      143\n",
       "wy       98\n",
       "vt       80\n",
       "Name: school_state, dtype: int64"
      ]
     },
     "execution_count": 16,
     "metadata": {},
     "output_type": "execute_result"
    }
   ],
   "source": [
    "# convert all of them into small letters\n",
    "project_data['school_state'] = project_data['school_state'].str.lower()\n",
    "project_data['school_state'].value_counts()"
   ]
  },
  {
   "cell_type": "markdown",
   "metadata": {},
   "source": [
    "# Preprocessing Categorical Features:"
   ]
  },
  {
   "cell_type": "code",
   "execution_count": 17,
   "metadata": {},
   "outputs": [],
   "source": [
    "# https://stackoverflow.com/a/47091490/4084039\n",
    "import re\n",
    "\n",
    "def decontracted(phrase):\n",
    "    # specific\n",
    "    phrase = re.sub(r\"won't\", \"will not\", phrase)\n",
    "    phrase = re.sub(r\"can\\'t\", \"can not\", phrase)\n",
    "\n",
    "    # general\n",
    "    phrase = re.sub(r\"n\\'t\", \" not\", phrase)\n",
    "    phrase = re.sub(r\"\\'re\", \" are\", phrase)\n",
    "    phrase = re.sub(r\"\\'s\", \" is\", phrase)\n",
    "    phrase = re.sub(r\"\\'d\", \" would\", phrase)\n",
    "    phrase = re.sub(r\"\\'ll\", \" will\", phrase)\n",
    "    phrase = re.sub(r\"\\'t\", \" not\", phrase)\n",
    "    phrase = re.sub(r\"\\'ve\", \" have\", phrase)\n",
    "    phrase = re.sub(r\"\\'m\", \" am\", phrase)\n",
    "    return phrase"
   ]
  },
  {
   "cell_type": "markdown",
   "metadata": {},
   "source": [
    "# Stopword:"
   ]
  },
  {
   "cell_type": "code",
   "execution_count": 18,
   "metadata": {},
   "outputs": [],
   "source": [
    "# https://gist.github.com/sebleier/554280\n",
    "# we are removing the words from the stop words list: 'no', 'nor', 'not'\n",
    "stopwords= ['i', 'me', 'my', 'myself', 'we', 'our', 'ours', 'ourselves', 'you', \"you're\", \"you've\",\\\n",
    "            \"you'll\", \"you'd\", 'your', 'yours', 'yourself', 'yourselves', 'he', 'him', 'his', 'himself', \\\n",
    "            'she', \"she's\", 'her', 'hers', 'herself', 'it', \"it's\", 'its', 'itself', 'they', 'them', 'their',\\\n",
    "            'theirs', 'themselves', 'what', 'which', 'who', 'whom', 'this', 'that', \"that'll\", 'these', 'those', \\\n",
    "            'am', 'is', 'are', 'was', 'were', 'be', 'been', 'being', 'have', 'has', 'had', 'having', 'do', 'does', \\\n",
    "            'did', 'doing', 'a', 'an', 'the', 'and', 'but', 'if', 'or', 'because', 'as', 'until', 'while', 'of', \\\n",
    "            'at', 'by', 'for', 'with', 'about', 'against', 'between', 'into', 'through', 'during', 'before', 'after',\\\n",
    "            'above', 'below', 'to', 'from', 'up', 'down', 'in', 'out', 'on', 'off', 'over', 'under', 'again', 'further',\\\n",
    "            'then', 'once', 'here', 'there', 'when', 'where', 'why', 'how', 'all', 'any', 'both', 'each', 'few', 'more',\\\n",
    "            'most', 'other', 'some', 'such', 'only', 'own', 'same', 'so', 'than', 'too', 'very', \\\n",
    "            's', 't', 'can', 'will', 'just', 'don', \"don't\", 'should', \"should've\", 'now', 'd', 'll', 'm', 'o', 're', \\\n",
    "            've', 'y', 'ain', 'aren', \"aren't\", 'couldn', \"couldn't\", 'didn', \"didn't\", 'doesn', \"doesn't\", 'hadn',\\\n",
    "            \"hadn't\", 'hasn', \"hasn't\", 'haven', \"haven't\", 'isn', \"isn't\", 'ma', 'mightn', \"mightn't\", 'mustn',\\\n",
    "            \"mustn't\", 'needn', \"needn't\", 'shan', \"shan't\", 'shouldn', \"shouldn't\", 'wasn', \"wasn't\", 'weren', \"weren't\", \\\n",
    "            'won', \"won't\", 'wouldn', \"wouldn't\"]"
   ]
  },
  {
   "cell_type": "markdown",
   "metadata": {},
   "source": [
    "# Preprocessing Categorical Features: essay"
   ]
  },
  {
   "cell_type": "code",
   "execution_count": 19,
   "metadata": {},
   "outputs": [],
   "source": [
    "# Combining all the above stundents \n",
    "from tqdm import tqdm\n",
    "def preprocess_text(text_data):\n",
    "    preprocessed_text = []\n",
    "    # tqdm is for printing the status bar\n",
    "    for sentance in tqdm(text_data):\n",
    "        sent = decontracted(sentance)\n",
    "        sent = sent.replace('\\\\r', ' ')\n",
    "        sent = sent.replace('\\\\n', ' ')\n",
    "        sent = sent.replace('\\\\\"', ' ')\n",
    "        sent = re.sub('[^A-Za-z0-9]+', ' ', sent)\n",
    "        # https://gist.github.com/sebleier/554280\n",
    "        sent = ' '.join(e for e in sent.split() if e.lower() not in stopwords)\n",
    "        preprocessed_text.append(sent.lower().strip())\n",
    "    return preprocessed_text"
   ]
  },
  {
   "cell_type": "code",
   "execution_count": 20,
   "metadata": {},
   "outputs": [],
   "source": [
    "# merge two column text dataframe: \n",
    "project_data[\"essay\"] = project_data[\"project_essay_1\"].map(str) +\\\n",
    "                        project_data[\"project_essay_2\"].map(str) + \\\n",
    "                        project_data[\"project_essay_3\"].map(str) + \\\n",
    "                        project_data[\"project_essay_4\"].map(str)"
   ]
  },
  {
   "cell_type": "code",
   "execution_count": 21,
   "metadata": {},
   "outputs": [
    {
     "name": "stdout",
     "output_type": "stream",
     "text": [
      "printing some random essay before Preprocessing \n",
      "9 Over 95% of my students are on free or reduced lunch.  I have a few who are homeless, but despite that, they come to school with an eagerness to learn.  My students are inquisitive eager learners who  embrace the challenge of not having great books and other resources  every day.  Many of them are not afforded the opportunity to engage with these big colorful pages of a book on a regular basis at home and they don't travel to the public library.  \\r\\nIt is my duty as a teacher to do all I can to provide each student an opportunity to succeed in every aspect of life. \\r\\nReading is Fundamental! My students will read these books over and over again while boosting their comprehension skills. These books will be used for read alouds, partner reading and for Independent reading. \\r\\nThey will engage in reading to build their \\\"Love for Reading\\\" by reading for pure enjoyment. They will be introduced to some new authors as well as some old favorites. I want my students to be ready for the 21st Century and know the pleasure of holding a good hard back book in hand. There's nothing like a good book to read!  \\r\\nMy students will soar in Reading, and more because of your consideration and generous funding contribution. This will help build stamina and prepare for 3rd grade. Thank you so much for reading our proposal!nannan\n",
      "--------------------------------------------------\n",
      "34 My students mainly come from extremely low-income families, and the majority of them come from homes where both parents work full time. Most of my students are at school from 7:30 am to 6:00 pm (2:30 to 6:00 pm in the after-school program), and they all receive free and reduced meals for breakfast and lunch. \\r\\n\\r\\n\\r\\nI want my students to feel  as comfortable in my classroom as they do at home. Many of my students take on multiple roles both at home as well as in school. They are sometimes the caretakers of younger siblings, cooks, babysitters, academics, friends, and most of all, they are developing who they are going to become as adults.  I consider it an essential part of my job to model helping others gain knowledge in a positive manner. As a result, I have a community of students who love helping each other in and outside of the classroom. They consistently look for opportunities to support each other's learning in a kind and helpful way.I am excited to be experimenting with alternative seating in my classroom this school year. Studies have shown that giving students the option of where they sit in a classroom increases focus as well as motivation.  \\r\\n\\r\\nBy allowing students choice in the classroom, they are able to explore and create in a welcoming environment. Alternative classroom seating has been experimented with more frequently in recent years. I believe (along with many others), that every child learns differently. This does not only apply to how multiplication is memorized, or a paper is written, but applies to the space in which they are asked to work. I have had students in the past ask \\\"Can I work in the library? Can I work on the carpet?\\\" My answer was always, \\\"As long as you're learning, you can work wherever you want!\\\" \\r\\n\\r\\nWith the yoga balls and the lap-desks, I will be able to increase the options for seating in my classroom and expand its imaginable space.nannan\n",
      "--------------------------------------------------\n",
      "147 My students are eager to learn and make their mark on the world.\\r\\n\\r\\nThey come from a Title 1 school and need extra love.\\r\\n\\r\\nMy fourth grade students are in a high poverty area and still come to school every day to get their education. I am trying to make it fun and educational for them so they can get the most out of their schooling. I created a caring environment for the students to bloom! They deserve the best.\\r\\nThank you!\\r\\nI am requesting 1 Chromebook to access online interventions, differentiate instruction, and get extra practice. The Chromebook will be used to supplement ELA and math instruction. Students will play ELA and math games that are engaging and fun, as well as participate in assignments online. This in turn will help my students improve their skills. Having a Chromebook in the classroom would not only allow students to use the programs at their own pace, but would ensure more students are getting adequate time to use the programs. The online programs have been especially beneficial to my students with special needs. They are able to work at their level as well as be challenged with some different materials. This is making these students more confident in their abilities.\\r\\n\\r\\nThe Chromebook would allow my students to have daily access to computers and increase their computing skills.\\r\\nThis will change their lives for the better as they become more successful in school. Having access to technology in the classroom would help bridge the achievement gap.nannan\n"
     ]
    }
   ],
   "source": [
    "print(\"printing some random essay before Preprocessing \")\n",
    "print(9, project_data['essay'].values[9])\n",
    "print('-'*50)\n",
    "print(34, project_data['essay'].values[34])\n",
    "print('-'*50)\n",
    "print(147, project_data['essay'].values[147])"
   ]
  },
  {
   "cell_type": "code",
   "execution_count": 22,
   "metadata": {},
   "outputs": [
    {
     "name": "stderr",
     "output_type": "stream",
     "text": [
      "100%|█████████████████████████████████████████████████████████████████████████| 109248/109248 [04:39<00:00, 391.05it/s]\n"
     ]
    }
   ],
   "source": [
    "preprocessed_essays = preprocess_text(project_data['essay'].values)"
   ]
  },
  {
   "cell_type": "code",
   "execution_count": 23,
   "metadata": {},
   "outputs": [
    {
     "name": "stdout",
     "output_type": "stream",
     "text": [
      "printing some random essay After preprocessed_essays\n",
      "9 95 students free reduced lunch homeless despite come school eagerness learn students inquisitive eager learners embrace challenge not great books resources every day many not afforded opportunity engage big colorful pages book regular basis home not travel public library duty teacher provide student opportunity succeed every aspect life reading fundamental students read books boosting comprehension skills books used read alouds partner reading independent reading engage reading build love reading reading pure enjoyment introduced new authors well old favorites want students ready 21st century know pleasure holding good hard back book hand nothing like good book read students soar reading consideration generous funding contribution help build stamina prepare 3rd grade thank much reading proposal nannan\n",
      "--------------------------------------------------\n",
      "34 students mainly come extremely low income families majority come homes parents work full time students school 7 30 6 00 pm 2 30 6 00 pm school program receive free reduced meals breakfast lunch want students feel comfortable classroom home many students take multiple roles home well school sometimes caretakers younger siblings cooks babysitters academics friends developing going become adults consider essential part job model helping others gain knowledge positive manner result community students love helping outside classroom consistently look opportunities support learning kind helpful way excited experimenting alternative seating classroom school year studies shown giving students option sit classroom increases focus well motivation allowing students choice classroom able explore create welcoming environment alternative classroom seating experimented frequently recent years believe along many others every child learns differently not apply multiplication memorized paper written applies space asked work students past ask work library work carpet answer always long learning work wherever want yoga balls lap desks able increase options seating classroom expand imaginable space nannan\n",
      "--------------------------------------------------\n",
      "147 students eager learn make mark world come title 1 school need extra love fourth grade students high poverty area still come school every day get education trying make fun educational get schooling created caring environment students bloom deserve best thank requesting 1 chromebook access online interventions differentiate instruction get extra practice chromebook used supplement ela math instruction students play ela math games engaging fun well participate assignments online turn help students improve skills chromebook classroom would not allow students use programs pace would ensure students getting adequate time use programs online programs especially beneficial students special needs able work level well challenged different materials making students confident abilities chromebook would allow students daily access computers increase computing skills change lives better become successful school access technology classroom would help bridge achievement gap nannan\n"
     ]
    }
   ],
   "source": [
    "print(\"printing some random essay After preprocessed_essays\")\n",
    "print(9, preprocessed_essays[9])\n",
    "print('-'*50)\n",
    "print(34, preprocessed_essays[34])\n",
    "print('-'*50)\n",
    "print(147, preprocessed_essays[147])"
   ]
  },
  {
   "cell_type": "code",
   "execution_count": 24,
   "metadata": {},
   "outputs": [],
   "source": [
    "#creating a new column with the preprocessed essays and replacing it with the original columns\n",
    "project_data['preprocessed_essays'] = preprocessed_essays\n",
    "project_data.drop(['project_essay_1'], axis=1, inplace=True)\n",
    "project_data.drop(['project_essay_2'], axis=1, inplace=True)\n",
    "project_data.drop(['project_essay_3'], axis=1, inplace=True)\n",
    "project_data.drop(['project_essay_4'], axis=1, inplace=True)"
   ]
  },
  {
   "cell_type": "code",
   "execution_count": 25,
   "metadata": {},
   "outputs": [
    {
     "name": "stdout",
     "output_type": "stream",
     "text": [
      "neg: 0.01, neu: 0.745, pos: 0.245, compound: 0.9975, "
     ]
    }
   ],
   "source": [
    "import nltk\n",
    "from nltk.sentiment.vader import SentimentIntensityAnalyzer\n",
    "\n",
    "sid = SentimentIntensityAnalyzer()\n",
    "\n",
    "for_sentiment = 'a person is a person no matter how small dr seuss i teach the smallest students with the biggest enthusiasm \\\n",
    "for learning my students learn in many different ways using all of our senses and multiple intelligences i use a wide range\\\n",
    "of techniques to help all my students succeed students in my class come from a variety of different backgrounds which makes\\\n",
    "for wonderful sharing of experiences and cultures including native americans our school is a caring community of successful \\\n",
    "learners which can be seen through collaborative student project based learning in and out of the classroom kindergarteners \\\n",
    "in my class love to work with hands on materials and have many different opportunities to practice a skill before it is\\\n",
    "mastered having the social skills to work cooperatively with friends is a crucial aspect of the kindergarten curriculum\\\n",
    "montana is the perfect place to learn about agriculture and nutrition my students love to role play in our pretend kitchen\\\n",
    "in the early childhood classroom i have had several kids ask me can we try cooking with real food i will take their idea \\\n",
    "and create common core cooking lessons where we learn important math and writing concepts while cooking delicious healthy \\\n",
    "food for snack time my students will have a grounded appreciation for the work that went into making the food and knowledge \\\n",
    "of where the ingredients came from as well as how it is healthy for their bodies this project would expand our learning of \\\n",
    "nutrition and agricultural cooking recipes by having us peel our own apples to make homemade applesauce make our own bread \\\n",
    "and mix up healthy plants from our classroom garden in the spring we will also create our own cookbooks to be printed and \\\n",
    "shared with families students will gain math and literature skills as well as a life long enjoyment for healthy cooking \\\n",
    "nannan'\n",
    "ss = sid.polarity_scores(for_sentiment)\n",
    "\n",
    "for k in ss:\n",
    "    print('{0}: {1}, '.format(k, ss[k]), end='')\n",
    "\n",
    "# we can use these 4 things as features/attributes (neg, neu, pos, compound)\n",
    "# neg: 0.0, neu: 0.753, pos: 0.247, compound: 0.93"
   ]
  },
  {
   "cell_type": "code",
   "execution_count": 26,
   "metadata": {},
   "outputs": [],
   "source": [
    "# Sentiment Analysis on 'essay'\n",
    "sid = SentimentIntensityAnalyzer()\n",
    "negative_sentiments = []\n",
    "positive_sentiments = []\n",
    "neutral_sentiments = []\n",
    "compound_sentiments = []"
   ]
  },
  {
   "cell_type": "code",
   "execution_count": 27,
   "metadata": {},
   "outputs": [
    {
     "name": "stderr",
     "output_type": "stream",
     "text": [
      "100%|█████████████████████████████████████████████████████████████████████████| 109248/109248 [12:53<00:00, 141.29it/s]\n"
     ]
    }
   ],
   "source": [
    "for i in tqdm(project_data['preprocessed_essays']):    \n",
    "    sid_sentiments = sid.polarity_scores(i)\n",
    "    negative_sentiments.append(sid_sentiments['neg'])\n",
    "    positive_sentiments.append(sid_sentiments['pos'])\n",
    "    neutral_sentiments.append(sid_sentiments['neu'])\n",
    "    compound_sentiments.append(sid_sentiments['compound'])"
   ]
  },
  {
   "cell_type": "code",
   "execution_count": 28,
   "metadata": {},
   "outputs": [],
   "source": [
    "# Now append these sentiments columns/freatures to original preprocessed dataframe\n",
    "project_data['negative_sent'] = negative_sentiments\n",
    "project_data['positive_sent'] = positive_sentiments\n",
    "project_data['neutral_sent'] = neutral_sentiments\n",
    "project_data['compound_sent'] = compound_sentiments"
   ]
  },
  {
   "cell_type": "code",
   "execution_count": 30,
   "metadata": {},
   "outputs": [
    {
     "data": {
      "text/html": [
       "<div>\n",
       "<style scoped>\n",
       "    .dataframe tbody tr th:only-of-type {\n",
       "        vertical-align: middle;\n",
       "    }\n",
       "\n",
       "    .dataframe tbody tr th {\n",
       "        vertical-align: top;\n",
       "    }\n",
       "\n",
       "    .dataframe thead th {\n",
       "        text-align: right;\n",
       "    }\n",
       "</style>\n",
       "<table border=\"1\" class=\"dataframe\">\n",
       "  <thead>\n",
       "    <tr style=\"text-align: right;\">\n",
       "      <th></th>\n",
       "      <th>Unnamed: 0</th>\n",
       "      <th>id</th>\n",
       "      <th>teacher_id</th>\n",
       "      <th>teacher_prefix</th>\n",
       "      <th>school_state</th>\n",
       "      <th>project_submitted_datetime</th>\n",
       "      <th>project_title</th>\n",
       "      <th>project_resource_summary</th>\n",
       "      <th>teacher_number_of_previously_posted_projects</th>\n",
       "      <th>project_is_approved</th>\n",
       "      <th>clean_categories</th>\n",
       "      <th>clean_subcategories</th>\n",
       "      <th>project_grade_category</th>\n",
       "      <th>essay</th>\n",
       "      <th>preprocessed_essays</th>\n",
       "      <th>negative_sent</th>\n",
       "      <th>positive_sent</th>\n",
       "      <th>neutral_sent</th>\n",
       "      <th>compound_sent</th>\n",
       "    </tr>\n",
       "  </thead>\n",
       "  <tbody>\n",
       "    <tr>\n",
       "      <th>0</th>\n",
       "      <td>160221</td>\n",
       "      <td>p253737</td>\n",
       "      <td>c90749f5d961ff158d4b4d1e7dc665fc</td>\n",
       "      <td>mrs</td>\n",
       "      <td>in</td>\n",
       "      <td>2016-12-05 13:43:57</td>\n",
       "      <td>Educational Support for English Learners at Home</td>\n",
       "      <td>My students need opportunities to practice beg...</td>\n",
       "      <td>0</td>\n",
       "      <td>0</td>\n",
       "      <td>literacy_language</td>\n",
       "      <td>esl_literacy</td>\n",
       "      <td>Grades_PreK_2</td>\n",
       "      <td>My students are English learners that are work...</td>\n",
       "      <td>students english learners working english seco...</td>\n",
       "      <td>0.013</td>\n",
       "      <td>0.154</td>\n",
       "      <td>0.833</td>\n",
       "      <td>0.9694</td>\n",
       "    </tr>\n",
       "    <tr>\n",
       "      <th>1</th>\n",
       "      <td>140945</td>\n",
       "      <td>p258326</td>\n",
       "      <td>897464ce9ddc600bced1151f324dd63a</td>\n",
       "      <td>mr</td>\n",
       "      <td>fl</td>\n",
       "      <td>2016-10-25 09:22:10</td>\n",
       "      <td>Wanted: Projector for Hungry Learners</td>\n",
       "      <td>My students need a projector to help with view...</td>\n",
       "      <td>7</td>\n",
       "      <td>1</td>\n",
       "      <td>history_civics_health_sports</td>\n",
       "      <td>civics_government_teamsports</td>\n",
       "      <td>Grades_6_8</td>\n",
       "      <td>Our students arrive to our school eager to lea...</td>\n",
       "      <td>students arrive school eager learn polite gene...</td>\n",
       "      <td>0.052</td>\n",
       "      <td>0.305</td>\n",
       "      <td>0.643</td>\n",
       "      <td>0.9856</td>\n",
       "    </tr>\n",
       "  </tbody>\n",
       "</table>\n",
       "</div>"
      ],
      "text/plain": [
       "   Unnamed: 0       id                        teacher_id teacher_prefix  \\\n",
       "0      160221  p253737  c90749f5d961ff158d4b4d1e7dc665fc            mrs   \n",
       "1      140945  p258326  897464ce9ddc600bced1151f324dd63a             mr   \n",
       "\n",
       "  school_state project_submitted_datetime  \\\n",
       "0           in        2016-12-05 13:43:57   \n",
       "1           fl        2016-10-25 09:22:10   \n",
       "\n",
       "                                      project_title  \\\n",
       "0  Educational Support for English Learners at Home   \n",
       "1             Wanted: Projector for Hungry Learners   \n",
       "\n",
       "                            project_resource_summary  \\\n",
       "0  My students need opportunities to practice beg...   \n",
       "1  My students need a projector to help with view...   \n",
       "\n",
       "   teacher_number_of_previously_posted_projects  project_is_approved  \\\n",
       "0                                             0                    0   \n",
       "1                                             7                    1   \n",
       "\n",
       "               clean_categories           clean_subcategories  \\\n",
       "0             literacy_language                  esl_literacy   \n",
       "1  history_civics_health_sports  civics_government_teamsports   \n",
       "\n",
       "  project_grade_category                                              essay  \\\n",
       "0          Grades_PreK_2  My students are English learners that are work...   \n",
       "1             Grades_6_8  Our students arrive to our school eager to lea...   \n",
       "\n",
       "                                 preprocessed_essays  negative_sent  \\\n",
       "0  students english learners working english seco...          0.013   \n",
       "1  students arrive school eager learn polite gene...          0.052   \n",
       "\n",
       "   positive_sent  neutral_sent  compound_sent  \n",
       "0          0.154         0.833         0.9694  \n",
       "1          0.305         0.643         0.9856  "
      ]
     },
     "execution_count": 30,
     "metadata": {},
     "output_type": "execute_result"
    }
   ],
   "source": [
    "project_data.head(2)"
   ]
  },
  {
   "cell_type": "markdown",
   "metadata": {},
   "source": [
    "# Preprocessing Categorical Features: project_title"
   ]
  },
  {
   "cell_type": "code",
   "execution_count": 29,
   "metadata": {},
   "outputs": [],
   "source": [
    "# Combining all the above stundents \n",
    "from tqdm import tqdm\n",
    "def preprocess_text(text_data):\n",
    "    preprocessed_text = []\n",
    "    # tqdm is for printing the status bar\n",
    "    for sentance in tqdm(text_data):\n",
    "        sent = decontracted(sentance)\n",
    "        sent = sent.replace('\\\\r', ' ')\n",
    "        sent = sent.replace('\\\\n', ' ')\n",
    "        sent = sent.replace('\\\\\"', ' ')\n",
    "        sent = re.sub('[^A-Za-z0-9]+', ' ', sent)\n",
    "        # https://gist.github.com/sebleier/554280\n",
    "        sent = ' '.join(e for e in sent.split() if e.lower() not in stopwords)\n",
    "        preprocessed_text.append(sent.lower().strip())\n",
    "    return preprocessed_text"
   ]
  },
  {
   "cell_type": "code",
   "execution_count": 30,
   "metadata": {},
   "outputs": [
    {
     "name": "stdout",
     "output_type": "stream",
     "text": [
      "printing some random reviews Before preprocessed_titles\n",
      "9 Just For the Love of Reading--\\r\\nPure Pleasure\n",
      "34 \\\"Have A Ball!!!\\\"\n",
      "147 Who needs a Chromebook?\\r\\nWE DO!!\n"
     ]
    }
   ],
   "source": [
    "print(\"printing some random reviews Before preprocessed_titles\")\n",
    "print(9, project_data['project_title'].values[9])\n",
    "print(34, project_data['project_title'].values[34])\n",
    "print(147, project_data['project_title'].values[147])"
   ]
  },
  {
   "cell_type": "code",
   "execution_count": 31,
   "metadata": {},
   "outputs": [
    {
     "name": "stderr",
     "output_type": "stream",
     "text": [
      "100%|████████████████████████████████████████████████████████████████████████| 109248/109248 [00:15<00:00, 7232.63it/s]\n"
     ]
    }
   ],
   "source": [
    "preprocessed_titles = preprocess_text(project_data['project_title'].values)"
   ]
  },
  {
   "cell_type": "code",
   "execution_count": 34,
   "metadata": {},
   "outputs": [
    {
     "name": "stdout",
     "output_type": "stream",
     "text": [
      "printing some random reviews After preprocessed_titles \n",
      "9 love reading pure pleasure\n",
      "34 ball\n",
      "147 needs chromebook\n"
     ]
    }
   ],
   "source": [
    "print(\"printing some random reviews After preprocessed_titles \")\n",
    "print(9, preprocessed_titles[9])\n",
    "print(34, preprocessed_titles[34])\n",
    "print(147, preprocessed_titles[147])"
   ]
  },
  {
   "cell_type": "code",
   "execution_count": 32,
   "metadata": {},
   "outputs": [
    {
     "data": {
      "text/plain": [
       "0    Educational Support for English Learners at Home\n",
       "1               Wanted: Projector for Hungry Learners\n",
       "Name: project_title, dtype: object"
      ]
     },
     "execution_count": 32,
     "metadata": {},
     "output_type": "execute_result"
    }
   ],
   "source": [
    "project_data['project_title'].head(2)"
   ]
  },
  {
   "cell_type": "code",
   "execution_count": 33,
   "metadata": {},
   "outputs": [],
   "source": [
    "#creating a new column with the preprocessed titles,useful for analysis\n",
    "project_data['preprocessed_titles'] = preprocessed_titles"
   ]
  },
  {
   "cell_type": "code",
   "execution_count": 37,
   "metadata": {},
   "outputs": [
    {
     "data": {
      "text/html": [
       "<div>\n",
       "<style scoped>\n",
       "    .dataframe tbody tr th:only-of-type {\n",
       "        vertical-align: middle;\n",
       "    }\n",
       "\n",
       "    .dataframe tbody tr th {\n",
       "        vertical-align: top;\n",
       "    }\n",
       "\n",
       "    .dataframe thead th {\n",
       "        text-align: right;\n",
       "    }\n",
       "</style>\n",
       "<table border=\"1\" class=\"dataframe\">\n",
       "  <thead>\n",
       "    <tr style=\"text-align: right;\">\n",
       "      <th></th>\n",
       "      <th>Unnamed: 0</th>\n",
       "      <th>id</th>\n",
       "      <th>teacher_id</th>\n",
       "      <th>teacher_prefix</th>\n",
       "      <th>school_state</th>\n",
       "      <th>project_submitted_datetime</th>\n",
       "      <th>project_title</th>\n",
       "      <th>project_resource_summary</th>\n",
       "      <th>teacher_number_of_previously_posted_projects</th>\n",
       "      <th>project_is_approved</th>\n",
       "      <th>clean_categories</th>\n",
       "      <th>clean_subcategories</th>\n",
       "      <th>project_grade_category</th>\n",
       "      <th>essay</th>\n",
       "      <th>preprocessed_essays</th>\n",
       "      <th>negative_sent</th>\n",
       "      <th>positive_sent</th>\n",
       "      <th>neutral_sent</th>\n",
       "      <th>compound_sent</th>\n",
       "      <th>preprocessed_titles</th>\n",
       "    </tr>\n",
       "  </thead>\n",
       "  <tbody>\n",
       "    <tr>\n",
       "      <th>0</th>\n",
       "      <td>160221</td>\n",
       "      <td>p253737</td>\n",
       "      <td>c90749f5d961ff158d4b4d1e7dc665fc</td>\n",
       "      <td>mrs</td>\n",
       "      <td>in</td>\n",
       "      <td>2016-12-05 13:43:57</td>\n",
       "      <td>Educational Support for English Learners at Home</td>\n",
       "      <td>My students need opportunities to practice beg...</td>\n",
       "      <td>0</td>\n",
       "      <td>0</td>\n",
       "      <td>literacy_language</td>\n",
       "      <td>esl_literacy</td>\n",
       "      <td>Grades_PreK_2</td>\n",
       "      <td>My students are English learners that are work...</td>\n",
       "      <td>students english learners working english seco...</td>\n",
       "      <td>0.013</td>\n",
       "      <td>0.154</td>\n",
       "      <td>0.833</td>\n",
       "      <td>0.9694</td>\n",
       "      <td>educational support english learners home</td>\n",
       "    </tr>\n",
       "  </tbody>\n",
       "</table>\n",
       "</div>"
      ],
      "text/plain": [
       "   Unnamed: 0       id                        teacher_id teacher_prefix  \\\n",
       "0      160221  p253737  c90749f5d961ff158d4b4d1e7dc665fc            mrs   \n",
       "\n",
       "  school_state project_submitted_datetime  \\\n",
       "0           in        2016-12-05 13:43:57   \n",
       "\n",
       "                                      project_title  \\\n",
       "0  Educational Support for English Learners at Home   \n",
       "\n",
       "                            project_resource_summary  \\\n",
       "0  My students need opportunities to practice beg...   \n",
       "\n",
       "   teacher_number_of_previously_posted_projects  project_is_approved  \\\n",
       "0                                             0                    0   \n",
       "\n",
       "    clean_categories clean_subcategories project_grade_category  \\\n",
       "0  literacy_language        esl_literacy          Grades_PreK_2   \n",
       "\n",
       "                                               essay  \\\n",
       "0  My students are English learners that are work...   \n",
       "\n",
       "                                 preprocessed_essays  negative_sent  \\\n",
       "0  students english learners working english seco...          0.013   \n",
       "\n",
       "   positive_sent  neutral_sent  compound_sent  \\\n",
       "0          0.154         0.833         0.9694   \n",
       "\n",
       "                         preprocessed_titles  \n",
       "0  educational support english learners home  "
      ]
     },
     "execution_count": 37,
     "metadata": {},
     "output_type": "execute_result"
    }
   ],
   "source": [
    "project_data.head(1)"
   ]
  },
  {
   "cell_type": "markdown",
   "metadata": {},
   "source": [
    "# Merging price with project_data"
   ]
  },
  {
   "cell_type": "code",
   "execution_count": 34,
   "metadata": {},
   "outputs": [
    {
     "data": {
      "text/html": [
       "<div>\n",
       "<style scoped>\n",
       "    .dataframe tbody tr th:only-of-type {\n",
       "        vertical-align: middle;\n",
       "    }\n",
       "\n",
       "    .dataframe tbody tr th {\n",
       "        vertical-align: top;\n",
       "    }\n",
       "\n",
       "    .dataframe thead th {\n",
       "        text-align: right;\n",
       "    }\n",
       "</style>\n",
       "<table border=\"1\" class=\"dataframe\">\n",
       "  <thead>\n",
       "    <tr style=\"text-align: right;\">\n",
       "      <th></th>\n",
       "      <th>Unnamed: 0</th>\n",
       "      <th>id</th>\n",
       "      <th>teacher_id</th>\n",
       "      <th>teacher_prefix</th>\n",
       "      <th>school_state</th>\n",
       "      <th>project_submitted_datetime</th>\n",
       "      <th>project_title</th>\n",
       "      <th>project_resource_summary</th>\n",
       "      <th>teacher_number_of_previously_posted_projects</th>\n",
       "      <th>project_is_approved</th>\n",
       "      <th>...</th>\n",
       "      <th>project_grade_category</th>\n",
       "      <th>essay</th>\n",
       "      <th>preprocessed_essays</th>\n",
       "      <th>negative_sent</th>\n",
       "      <th>positive_sent</th>\n",
       "      <th>neutral_sent</th>\n",
       "      <th>compound_sent</th>\n",
       "      <th>preprocessed_titles</th>\n",
       "      <th>price</th>\n",
       "      <th>quantity</th>\n",
       "    </tr>\n",
       "  </thead>\n",
       "  <tbody>\n",
       "    <tr>\n",
       "      <th>0</th>\n",
       "      <td>160221</td>\n",
       "      <td>p253737</td>\n",
       "      <td>c90749f5d961ff158d4b4d1e7dc665fc</td>\n",
       "      <td>mrs</td>\n",
       "      <td>in</td>\n",
       "      <td>2016-12-05 13:43:57</td>\n",
       "      <td>Educational Support for English Learners at Home</td>\n",
       "      <td>My students need opportunities to practice beg...</td>\n",
       "      <td>0</td>\n",
       "      <td>0</td>\n",
       "      <td>...</td>\n",
       "      <td>Grades_PreK_2</td>\n",
       "      <td>My students are English learners that are work...</td>\n",
       "      <td>students english learners working english seco...</td>\n",
       "      <td>0.013</td>\n",
       "      <td>0.154</td>\n",
       "      <td>0.833</td>\n",
       "      <td>0.9694</td>\n",
       "      <td>educational support english learners home</td>\n",
       "      <td>154.6</td>\n",
       "      <td>23</td>\n",
       "    </tr>\n",
       "  </tbody>\n",
       "</table>\n",
       "<p>1 rows × 22 columns</p>\n",
       "</div>"
      ],
      "text/plain": [
       "   Unnamed: 0       id                        teacher_id teacher_prefix  \\\n",
       "0      160221  p253737  c90749f5d961ff158d4b4d1e7dc665fc            mrs   \n",
       "\n",
       "  school_state project_submitted_datetime  \\\n",
       "0           in        2016-12-05 13:43:57   \n",
       "\n",
       "                                      project_title  \\\n",
       "0  Educational Support for English Learners at Home   \n",
       "\n",
       "                            project_resource_summary  \\\n",
       "0  My students need opportunities to practice beg...   \n",
       "\n",
       "   teacher_number_of_previously_posted_projects  project_is_approved  ...  \\\n",
       "0                                             0                    0  ...   \n",
       "\n",
       "  project_grade_category                                              essay  \\\n",
       "0          Grades_PreK_2  My students are English learners that are work...   \n",
       "\n",
       "                                 preprocessed_essays negative_sent  \\\n",
       "0  students english learners working english seco...         0.013   \n",
       "\n",
       "  positive_sent  neutral_sent  compound_sent  \\\n",
       "0         0.154         0.833         0.9694   \n",
       "\n",
       "                         preprocessed_titles  price quantity  \n",
       "0  educational support english learners home  154.6       23  \n",
       "\n",
       "[1 rows x 22 columns]"
      ]
     },
     "execution_count": 34,
     "metadata": {},
     "output_type": "execute_result"
    }
   ],
   "source": [
    "price_data = resource_data.groupby('id').agg({'price':'sum', 'quantity':'sum'}).reset_index()\n",
    "project_data = pd.merge(project_data, price_data, on='id', how='left')\n",
    "project_data.head(1)"
   ]
  },
  {
   "cell_type": "code",
   "execution_count": 39,
   "metadata": {},
   "outputs": [],
   "source": [
    "x=project_data[0:50000]\n",
    "y = project_data['project_is_approved'][0:50000].values"
   ]
  },
  {
   "cell_type": "code",
   "execution_count": 36,
   "metadata": {},
   "outputs": [
    {
     "name": "stdout",
     "output_type": "stream",
     "text": [
      "(73196, 22) (73196,)\n",
      "(36052, 22) (36052,)\n"
     ]
    }
   ],
   "source": [
    "# train test split using sklearn.model selection\n",
    "from sklearn.model_selection import train_test_split\n",
    "# Splitting data into Train and cross validation(or test): Stratifie\n",
    "X_train, X_test, y_train, y_test = train_test_split(project_data, project_data['project_is_approved'], test_size=0.33, stratify = project_data['project_is_approved'],random_state=0)\n",
    "print(X_train.shape, y_train.shape)\n",
    "print(X_test.shape, y_test.shape)"
   ]
  },
  {
   "cell_type": "code",
   "execution_count": 37,
   "metadata": {},
   "outputs": [
    {
     "name": "stdout",
     "output_type": "stream",
     "text": [
      "X_train_shape (73196, 22)\n",
      "X_test_shape (36052, 22)\n"
     ]
    }
   ],
   "source": [
    "print('X_train_shape' , X_train.shape)\n",
    "print('X_test_shape' , X_test.shape)"
   ]
  },
  {
   "cell_type": "code",
   "execution_count": 40,
   "metadata": {},
   "outputs": [],
   "source": [
    "def response_values(feature, df):\n",
    "    value_count = df[feature].value_counts()\n",
    "    response_values_dict = dict()\n",
    "    for i,j in value_count.items():\n",
    "        vec = []\n",
    "        for k in range(0,2):\n",
    "            res_val =len( df.loc[(df['project_is_approved']==k) & (df[feature]==i)])/len( df.loc[(df[feature]==i)])\n",
    "            vec.append(res_val)\n",
    "            response_values_dict[i]=vec\n",
    "    return response_values_dict"
   ]
  },
  {
   "cell_type": "code",
   "execution_count": 41,
   "metadata": {},
   "outputs": [],
   "source": [
    "def array_response_code(feature, df):\n",
    "    response_values_dict = response_values(feature, X_train)\n",
    "    value_count = X_train[feature].value_counts()\n",
    "    gv_fea = []\n",
    "    for index, row in df.iterrows():\n",
    "        if row[feature] in dict(value_count).keys():\n",
    "            gv_fea.append(response_values_dict[row[feature]])\n",
    "        else:\n",
    "            gv_fea.append([0.5,0.5])           \n",
    "    return gv_fea"
   ]
  },
  {
   "cell_type": "code",
   "execution_count": 42,
   "metadata": {},
   "outputs": [
    {
     "data": {
      "text/plain": [
       "{'literacy_language': [0.13333333333333333, 0.8666666666666667],\n",
       " 'math_science': [0.18278168708192163, 0.8172183129180783],\n",
       " 'literacy_language_math_science': [0.13152486642005753, 0.8684751335799424],\n",
       " 'health_sports': [0.14745269286754004, 0.85254730713246],\n",
       " 'music_arts': [0.14436821040594625, 0.8556317895940537],\n",
       " 'specialneeds': [0.19218695500523195, 0.807813044994768],\n",
       " 'literacy_language_specialneeds': [0.13979706877113868, 0.8602029312288614],\n",
       " 'appliedlearning': [0.18113357114546175, 0.8188664288545382],\n",
       " 'math_science_literacy_language': [0.14285714285714285, 0.8571428571428571],\n",
       " 'appliedlearning_literacy_language': [0.13370089593383874,\n",
       "  0.8662991040661613],\n",
       " 'math_science_specialneeds': [0.1596774193548387, 0.8403225806451613],\n",
       " 'history_civics': [0.15931372549019607, 0.8406862745098039],\n",
       " 'math_science_music_arts': [0.16370106761565836, 0.8362989323843416],\n",
       " 'literacy_language_music_arts': [0.1629162916291629, 0.8370837083708371],\n",
       " 'appliedlearning_specialneeds': [0.1961577350859454, 0.8038422649140546],\n",
       " 'history_civics_literacy_language': [0.11580086580086581, 0.8841991341991342],\n",
       " 'health_sports_specialneeds': [0.11724915445321307, 0.882750845546787],\n",
       " 'warmth_care_hunger': [0.07940161104718067, 0.9205983889528193],\n",
       " 'math_science_appliedlearning': [0.17375, 0.82625],\n",
       " 'appliedlearning_math_science': [0.1994219653179191, 0.8005780346820809],\n",
       " 'literacy_language_history_civics': [0.11450381679389313, 0.8854961832061069],\n",
       " 'health_sports_literacy_language': [0.1341222879684418, 0.8658777120315582],\n",
       " 'appliedlearning_music_arts': [0.18787878787878787, 0.8121212121212121],\n",
       " 'literacy_language_appliedlearning': [0.1348314606741573, 0.8651685393258427],\n",
       " 'math_science_history_civics': [0.14874141876430205, 0.851258581235698],\n",
       " 'appliedlearning_health_sports': [0.16831683168316833, 0.8316831683168316],\n",
       " 'math_science_health_sports': [0.19202898550724637, 0.8079710144927537],\n",
       " 'history_civics_math_science': [0.13596491228070176, 0.8640350877192983],\n",
       " 'history_civics_music_arts': [0.1523809523809524, 0.8476190476190476],\n",
       " 'specialneeds_music_arts': [0.1691542288557214, 0.8308457711442786],\n",
       " 'health_sports_math_science': [0.16243654822335024, 0.8375634517766497],\n",
       " 'history_civics_specialneeds': [0.1853932584269663, 0.8146067415730337],\n",
       " 'health_sports_appliedlearning': [0.17293233082706766, 0.8270676691729323],\n",
       " 'appliedlearning_history_civics': [0.1968503937007874, 0.8031496062992126],\n",
       " 'health_sports_music_arts': [0.17391304347826086, 0.8260869565217391],\n",
       " 'music_arts_specialneeds': [0.11458333333333333, 0.8854166666666666],\n",
       " 'literacy_language_health_sports': [0.18867924528301888, 0.8113207547169812],\n",
       " 'health_sports_history_civics': [0.125, 0.875],\n",
       " 'specialneeds_health_sports': [0.23333333333333334, 0.7666666666666667],\n",
       " 'history_civics_appliedlearning': [0.3, 0.7],\n",
       " 'health_sports_warmth_care_hunger': [0.058823529411764705,\n",
       "  0.9411764705882353],\n",
       " 'specialneeds_warmth_care_hunger': [0.23529411764705882, 0.7647058823529411],\n",
       " 'music_arts_health_sports': [0.2857142857142857, 0.7142857142857143],\n",
       " 'music_arts_history_civics': [0.3076923076923077, 0.6923076923076923],\n",
       " 'history_civics_health_sports': [0.08333333333333333, 0.9166666666666666],\n",
       " 'math_science_warmth_care_hunger': [0.45454545454545453, 0.5454545454545454],\n",
       " 'music_arts_appliedlearning': [0.3333333333333333, 0.6666666666666666],\n",
       " 'appliedlearning_warmth_care_hunger': [0.16666666666666666,\n",
       "  0.8333333333333334],\n",
       " 'literacy_language_warmth_care_hunger': [0.0, 1.0],\n",
       " 'history_civics_warmth_care_hunger': [1.0, 0.0],\n",
       " 'music_arts_warmth_care_hunger': [1.0, 0.0]}"
      ]
     },
     "execution_count": 42,
     "metadata": {},
     "output_type": "execute_result"
    }
   ],
   "source": [
    "response_values('clean_categories', X_train)"
   ]
  },
  {
   "cell_type": "code",
   "execution_count": 43,
   "metadata": {},
   "outputs": [
    {
     "name": "stdout",
     "output_type": "stream",
     "text": [
      "After response coding :\n",
      "(73196, 2)\n",
      "(36052, 2)\n"
     ]
    }
   ],
   "source": [
    "X_train_clean_categories_res_code = array_response_code('clean_categories', X_train)\n",
    "X_test_clean_categories_res_code = array_response_code('clean_categories', X_test)\n",
    "\n",
    "print(\"After response coding :\")\n",
    "print(np.shape(X_train_clean_categories_res_code))\n",
    "print(np.shape(X_test_clean_categories_res_code))"
   ]
  },
  {
   "cell_type": "code",
   "execution_count": 44,
   "metadata": {},
   "outputs": [
    {
     "data": {
      "text/plain": [
       "{'literacy': [0.11990595611285267, 0.8800940438871473],\n",
       " 'literacy_mathematics': [0.12986547085201794, 0.8701345291479821],\n",
       " 'literature_writing_mathematics': [0.13348706123494747, 0.8665129387650525],\n",
       " 'mathematics': [0.181267217630854, 0.818732782369146],\n",
       " 'literacy_literature_writing': [0.1348221670802316, 0.8651778329197684],\n",
       " 'literature_writing': [0.14271653543307086, 0.8572834645669292],\n",
       " 'specialneeds': [0.19218695500523195, 0.807813044994768],\n",
       " 'health_wellness': [0.12334983498349834, 0.8766501650165016],\n",
       " 'appliedsciences_mathematics': [0.17430406852248395, 0.8256959314775161],\n",
       " 'appliedsciences': [0.19050480769230768, 0.8094951923076923],\n",
       " 'literacy_specialneeds': [0.1316747572815534, 0.8683252427184466],\n",
       " 'gym_fitness_health_wellness': [0.12508185985592665, 0.8749181401440733],\n",
       " 'esl_literacy': [0.13057961359093936, 0.8694203864090606],\n",
       " 'visualarts': [0.17890520694259013, 0.8210947930574098],\n",
       " 'music': [0.1092184368737475, 0.8907815631262525],\n",
       " 'warmth_care_hunger': [0.07940161104718067, 0.9205983889528193],\n",
       " 'literature_writing_specialneeds': [0.15856481481481483, 0.8414351851851852],\n",
       " 'mathematics_specialneeds': [0.16834170854271358, 0.8316582914572864],\n",
       " 'gym_fitness': [0.16174582798459564, 0.8382541720154044],\n",
       " 'health_wellness_specialneeds': [0.1167979002624672, 0.8832020997375328],\n",
       " 'teamsports': [0.17496635262449528, 0.8250336473755047],\n",
       " 'environmentalscience': [0.17916666666666667, 0.8208333333333333],\n",
       " 'appliedsciences_environmentalscience': [0.21815519765739386,\n",
       "  0.7818448023426061],\n",
       " 'music_performingarts': [0.11305732484076433, 0.8869426751592356],\n",
       " 'environmentalscience_health_lifescience': [0.18357487922705315,\n",
       "  0.8164251207729468],\n",
       " 'earlydevelopment': [0.1825938566552901, 0.8174061433447098],\n",
       " 'environmentalscience_mathematics': [0.19895287958115182, 0.8010471204188482],\n",
       " 'other': [0.16783216783216784, 0.8321678321678322],\n",
       " 'health_lifescience': [0.12773722627737227, 0.8722627737226277],\n",
       " 'health_wellness_nutritioneducation': [0.16728624535315986,\n",
       "  0.8327137546468402],\n",
       " 'earlydevelopment_specialneeds': [0.17702448210922786, 0.8229755178907722],\n",
       " 'esl_literature_writing': [0.17886178861788618, 0.8211382113821138],\n",
       " 'earlydevelopment_literacy': [0.13125, 0.86875],\n",
       " 'literature_writing_visualarts': [0.1724137931034483, 0.8275862068965517],\n",
       " 'appliedsciences_visualarts': [0.1614457831325301, 0.8385542168674699],\n",
       " 'gym_fitness_teamsports': [0.22194513715710723, 0.7780548628428927],\n",
       " 'history_geography_literature_writing': [0.13959390862944163,\n",
       "  0.8604060913705583],\n",
       " 'appliedsciences_literacy': [0.16923076923076924, 0.8307692307692308],\n",
       " 'appliedsciences_health_lifescience': [0.1909814323607427,\n",
       "  0.8090185676392573],\n",
       " 'health_lifescience_mathematics': [0.20555555555555555, 0.7944444444444444],\n",
       " 'history_geography': [0.16338028169014085, 0.8366197183098592],\n",
       " 'literacy_visualarts': [0.17045454545454544, 0.8295454545454546],\n",
       " 'mathematics_visualarts': [0.18674698795180722, 0.8132530120481928],\n",
       " 'history_geography_literacy': [0.08433734939759036, 0.9156626506024096],\n",
       " 'environmentalscience_literacy': [0.13, 0.87],\n",
       " 'health_wellness_literacy': [0.1267123287671233, 0.8732876712328768],\n",
       " 'appliedsciences_literature_writing': [0.136986301369863, 0.863013698630137],\n",
       " 'college_careerprep': [0.1724137931034483, 0.8275862068965517],\n",
       " 'esl': [0.14285714285714285, 0.8571428571428571],\n",
       " 'performingarts': [0.12087912087912088, 0.8791208791208791],\n",
       " 'appliedsciences_college_careerprep': [0.19117647058823528,\n",
       "  0.8088235294117647],\n",
       " 'appliedsciences_specialneeds': [0.12350597609561753, 0.8764940239043825],\n",
       " 'literacy_socialsciences': [0.084, 0.916],\n",
       " 'foreignlanguages': [0.22448979591836735, 0.7755102040816326],\n",
       " 'health_wellness_teamsports': [0.1940928270042194, 0.8059071729957806],\n",
       " 'charactereducation_literacy': [0.09292035398230089, 0.9070796460176991],\n",
       " 'charactereducation': [0.17333333333333334, 0.8266666666666667],\n",
       " 'health_lifescience_literacy': [0.11312217194570136, 0.8868778280542986],\n",
       " 'literature_writing_socialsciences': [0.1187214611872146, 0.8812785388127854],\n",
       " 'college_careerprep_literature_writing': [0.14678899082568808,\n",
       "  0.8532110091743119],\n",
       " 'history_geography_socialsciences': [0.16908212560386474, 0.8309178743961353],\n",
       " 'other_specialneeds': [0.21393034825870647, 0.7860696517412935],\n",
       " 'specialneeds_visualarts': [0.1691542288557214, 0.8308457711442786],\n",
       " 'earlydevelopment_health_wellness': [0.12626262626262627, 0.8737373737373737],\n",
       " 'college_careerprep_mathematics': [0.14285714285714285, 0.8571428571428571],\n",
       " 'environmentalscience_literature_writing': [0.15384615384615385,\n",
       "  0.8461538461538461],\n",
       " 'health_wellness_literature_writing': [0.11578947368421053,\n",
       "  0.8842105263157894],\n",
       " 'earlydevelopment_mathematics': [0.22994652406417113, 0.7700534759358288],\n",
       " 'nutritioneducation': [0.2033898305084746, 0.7966101694915254],\n",
       " 'civics_government_history_geography': [0.16477272727272727,\n",
       "  0.8352272727272727],\n",
       " 'esl_mathematics': [0.10588235294117647, 0.8941176470588236],\n",
       " 'health_wellness_mathematics': [0.1497005988023952, 0.8502994011976048],\n",
       " 'college_careerprep_literacy': [0.09032258064516129, 0.9096774193548387],\n",
       " 'foreignlanguages_literacy': [0.1456953642384106, 0.8543046357615894],\n",
       " 'earlydevelopment_literature_writing': [0.19047619047619047,\n",
       "  0.8095238095238095],\n",
       " 'environmentalscience_visualarts': [0.176056338028169, 0.823943661971831],\n",
       " 'esl_specialneeds': [0.11851851851851852, 0.8814814814814815],\n",
       " 'socialsciences': [0.12, 0.88],\n",
       " 'literacy_other': [0.14516129032258066, 0.8548387096774194],\n",
       " 'charactereducation_specialneeds': [0.24793388429752067, 0.7520661157024794],\n",
       " 'health_lifescience_literature_writing': [0.11666666666666667,\n",
       "  0.8833333333333333],\n",
       " 'charactereducation_earlydevelopment': [0.2627118644067797,\n",
       "  0.7372881355932204],\n",
       " 'health_wellness_other': [0.1864406779661017, 0.8135593220338984],\n",
       " 'history_geography_visualarts': [0.1623931623931624, 0.8376068376068376],\n",
       " 'literacy_parentinvolvement': [0.10526315789473684, 0.8947368421052632],\n",
       " 'environmentalscience_history_geography': [0.09821428571428571,\n",
       "  0.9017857142857143],\n",
       " 'health_lifescience_health_wellness': [0.11926605504587157,\n",
       "  0.8807339449541285],\n",
       " 'financialliteracy': [0.1559633027522936, 0.8440366972477065],\n",
       " 'gym_fitness_specialneeds': [0.12037037037037036, 0.8796296296296297],\n",
       " 'charactereducation_literature_writing': [0.16981132075471697,\n",
       "  0.8301886792452831],\n",
       " 'earlydevelopment_visualarts': [0.2647058823529412, 0.7352941176470589],\n",
       " 'environmentalscience_specialneeds': [0.16831683168316833,\n",
       "  0.8316831683168316],\n",
       " 'appliedsciences_earlydevelopment': [0.18811881188118812, 0.8118811881188119],\n",
       " 'financialliteracy_mathematics': [0.09183673469387756, 0.9081632653061225],\n",
       " 'civics_government_literacy': [0.1134020618556701, 0.8865979381443299],\n",
       " 'earlydevelopment_other': [0.14583333333333334, 0.8541666666666666],\n",
       " 'appliedsciences_extracurricular': [0.1276595744680851, 0.8723404255319149],\n",
       " 'health_lifescience_specialneeds': [0.17391304347826086, 0.8260869565217391],\n",
       " 'college_careerprep_visualarts': [0.1111111111111111, 0.8888888888888888],\n",
       " 'college_careerprep_specialneeds': [0.19318181818181818, 0.8068181818181818],\n",
       " 'literature_writing_other': [0.1744186046511628, 0.8255813953488372],\n",
       " 'appliedsciences_other': [0.13953488372093023, 0.8604651162790697],\n",
       " 'charactereducation_college_careerprep': [0.18604651162790697,\n",
       "  0.813953488372093],\n",
       " 'extracurricular': [0.2, 0.8],\n",
       " 'music_specialneeds': [0.11904761904761904, 0.8809523809523809],\n",
       " 'literacy_music': [0.060240963855421686, 0.9397590361445783],\n",
       " 'charactereducation_health_wellness': [0.1951219512195122,\n",
       "  0.8048780487804879],\n",
       " 'history_geography_specialneeds': [0.17073170731707318, 0.8292682926829268],\n",
       " 'literacy_performingarts': [0.15789473684210525, 0.8421052631578947],\n",
       " 'history_geography_mathematics': [0.136986301369863, 0.863013698630137],\n",
       " 'literature_writing_performingarts': [0.1388888888888889, 0.8611111111111112],\n",
       " 'charactereducation_mathematics': [0.14705882352941177, 0.8529411764705882],\n",
       " 'performingarts_visualarts': [0.25, 0.75],\n",
       " 'health_lifescience_visualarts': [0.19696969696969696, 0.803030303030303],\n",
       " 'mathematics_other': [0.19696969696969696, 0.803030303030303],\n",
       " 'foreignlanguages_literature_writing': [0.20967741935483872,\n",
       "  0.7903225806451613],\n",
       " 'civics_government_literature_writing': [0.13559322033898305,\n",
       "  0.864406779661017],\n",
       " 'appliedsciences_history_geography': [0.20689655172413793,\n",
       "  0.7931034482758621],\n",
       " 'charactereducation_other': [0.25862068965517243, 0.7413793103448276],\n",
       " 'civics_government_socialsciences': [0.08771929824561403, 0.9122807017543859],\n",
       " 'extracurricular_visualarts': [0.15789473684210525, 0.8421052631578947],\n",
       " 'mathematics_socialsciences': [0.12280701754385964, 0.8771929824561403],\n",
       " 'civics_government': [0.2, 0.8],\n",
       " 'esl_earlydevelopment': [0.09259259259259259, 0.9074074074074074],\n",
       " 'health_lifescience_socialsciences': [0.12962962962962962,\n",
       "  0.8703703703703703],\n",
       " 'college_careerprep_other': [0.14814814814814814, 0.8518518518518519],\n",
       " 'economics_financialliteracy': [0.22641509433962265, 0.7735849056603774],\n",
       " 'charactereducation_visualarts': [0.22, 0.78],\n",
       " 'appliedsciences_music': [0.08, 0.92],\n",
       " 'environmentalscience_socialsciences': [0.20408163265306123,\n",
       "  0.7959183673469388],\n",
       " 'appliedsciences_esl': [0.14583333333333334, 0.8541666666666666],\n",
       " 'mathematics_parentinvolvement': [0.14893617021276595, 0.851063829787234],\n",
       " 'mathematics_music': [0.0851063829787234, 0.9148936170212766],\n",
       " 'appliedsciences_parentinvolvement': [0.13043478260869565,\n",
       "  0.8695652173913043],\n",
       " 'appliedsciences_socialsciences': [0.15217391304347827, 0.8478260869565217],\n",
       " 'socialsciences_specialneeds': [0.18604651162790697, 0.813953488372093],\n",
       " 'other_visualarts': [0.18604651162790697, 0.813953488372093],\n",
       " 'literature_writing_parentinvolvement': [0.14634146341463414,\n",
       "  0.8536585365853658],\n",
       " 'esl_foreignlanguages': [0.1794871794871795, 0.8205128205128205],\n",
       " 'socialsciences_visualarts': [0.1282051282051282, 0.8717948717948718],\n",
       " 'charactereducation_communityservice': [0.20512820512820512,\n",
       "  0.7948717948717948],\n",
       " 'appliedsciences_charactereducation': [0.18421052631578946,\n",
       "  0.8157894736842105],\n",
       " 'gym_fitness_nutritioneducation': [0.10526315789473684, 0.8947368421052632],\n",
       " 'health_lifescience_history_geography': [0.18421052631578946,\n",
       "  0.8157894736842105],\n",
       " 'health_lifescience_nutritioneducation': [0.34210526315789475,\n",
       "  0.6578947368421053],\n",
       " 'communityservice_environmentalscience': [0.13157894736842105,\n",
       "  0.868421052631579],\n",
       " 'charactereducation_extracurricular': [0.2702702702702703,\n",
       "  0.7297297297297297],\n",
       " 'communityservice': [0.1891891891891892, 0.8108108108108109],\n",
       " 'college_careerprep_health_lifescience': [0.1111111111111111,\n",
       "  0.8888888888888888],\n",
       " 'earlydevelopment_environmentalscience': [0.3142857142857143,\n",
       "  0.6857142857142857],\n",
       " 'financialliteracy_specialneeds': [0.18181818181818182, 0.8181818181818182],\n",
       " 'literature_writing_music': [0.12121212121212122, 0.8787878787878788],\n",
       " 'music_visualarts': [0.21212121212121213, 0.7878787878787878],\n",
       " 'earlydevelopment_health_lifescience': [0.3125, 0.6875],\n",
       " 'extracurricular_mathematics': [0.1875, 0.8125],\n",
       " 'health_wellness_music': [0.125, 0.875],\n",
       " 'college_careerprep_extracurricular': [0.12903225806451613,\n",
       "  0.8709677419354839],\n",
       " 'environmentalscience_nutritioneducation': [0.36666666666666664,\n",
       "  0.6333333333333333],\n",
       " 'specialneeds_teamsports': [0.23333333333333334, 0.7666666666666667],\n",
       " 'esl_environmentalscience': [0.2, 0.8],\n",
       " 'environmentalscience_health_wellness': [0.13793103448275862,\n",
       "  0.8620689655172413],\n",
       " 'earlydevelopment_parentinvolvement': [0.1724137931034483,\n",
       "  0.8275862068965517],\n",
       " 'extracurricular_literacy': [0.10344827586206896, 0.896551724137931],\n",
       " 'earlydevelopment_gym_fitness': [0.18518518518518517, 0.8148148148148148],\n",
       " 'parentinvolvement': [0.18518518518518517, 0.8148148148148148],\n",
       " 'foreignlanguages_mathematics': [0.2222222222222222, 0.7777777777777778],\n",
       " 'appliedsciences_health_wellness': [0.18518518518518517, 0.8148148148148148],\n",
       " 'health_wellness_visualarts': [0.18518518518518517, 0.8148148148148148],\n",
       " 'esl_health_lifescience': [0.2, 0.8],\n",
       " 'gym_fitness_mathematics': [0.20833333333333334, 0.7916666666666666],\n",
       " 'appliedsciences_performingarts': [0.13043478260869565, 0.8695652173913043],\n",
       " 'economics': [0.18181818181818182, 0.8181818181818182],\n",
       " 'mathematics_performingarts': [0.045454545454545456, 0.9545454545454546],\n",
       " 'college_careerprep_socialsciences': [0.09090909090909091,\n",
       "  0.9090909090909091],\n",
       " 'charactereducation_parentinvolvement': [0.13636363636363635,\n",
       "  0.8636363636363636],\n",
       " 'esl_visualarts': [0.2727272727272727, 0.7272727272727273],\n",
       " 'college_careerprep_parentinvolvement': [0.09090909090909091,\n",
       "  0.9090909090909091],\n",
       " 'college_careerprep_communityservice': [0.19047619047619047,\n",
       "  0.8095238095238095],\n",
       " 'college_careerprep_environmentalscience': [0.38095238095238093,\n",
       "  0.6190476190476191],\n",
       " 'communityservice_visualarts': [0.2, 0.8],\n",
       " 'esl_history_geography': [0.15789473684210525, 0.8421052631578947],\n",
       " 'college_careerprep_earlydevelopment': [0.1111111111111111,\n",
       "  0.8888888888888888],\n",
       " 'parentinvolvement_visualarts': [0.05555555555555555, 0.9444444444444444],\n",
       " 'esl_health_wellness': [0.2222222222222222, 0.7777777777777778],\n",
       " 'economics_history_geography': [0.1111111111111111, 0.8888888888888888],\n",
       " 'college_careerprep_history_geography': [0.16666666666666666,\n",
       "  0.8333333333333334],\n",
       " 'gym_fitness_music': [0.1111111111111111, 0.8888888888888888],\n",
       " 'parentinvolvement_specialneeds': [0.2777777777777778, 0.7222222222222222],\n",
       " 'communityservice_literature_writing': [0.16666666666666666,\n",
       "  0.8333333333333334],\n",
       " 'specialneeds_warmth_care_hunger': [0.23529411764705882, 0.7647058823529411],\n",
       " 'nutritioneducation_specialneeds': [0.11764705882352941, 0.8823529411764706],\n",
       " 'gym_fitness_literacy': [0.4117647058823529, 0.5882352941176471],\n",
       " 'charactereducation_environmentalscience': [0.3125, 0.6875],\n",
       " 'civics_government_specialneeds': [0.1875, 0.8125],\n",
       " 'economics_mathematics': [0.0625, 0.9375],\n",
       " 'extracurricular_literature_writing': [0.0, 1.0],\n",
       " 'communityservice_specialneeds': [0.1875, 0.8125],\n",
       " 'earlydevelopment_music': [0.26666666666666666, 0.7333333333333333],\n",
       " 'civics_government_environmentalscience': [0.26666666666666666,\n",
       "  0.7333333333333333],\n",
       " 'extracurricular_teamsports': [0.13333333333333333, 0.8666666666666667],\n",
       " 'history_geography_music': [0.0, 1.0],\n",
       " 'charactereducation_music': [0.13333333333333333, 0.8666666666666667],\n",
       " 'extracurricular_music': [0.13333333333333333, 0.8666666666666667],\n",
       " 'foreignlanguages_history_geography': [0.2857142857142857,\n",
       "  0.7142857142857143],\n",
       " 'health_wellness_history_geography': [0.14285714285714285,\n",
       "  0.8571428571428571],\n",
       " 'extracurricular_specialneeds': [0.14285714285714285, 0.8571428571428571],\n",
       " 'college_careerprep_performingarts': [0.35714285714285715,\n",
       "  0.6428571428571429],\n",
       " 'health_wellness_warmth_care_hunger': [0.07142857142857142,\n",
       "  0.9285714285714286],\n",
       " 'college_careerprep_foreignlanguages': [0.07142857142857142,\n",
       "  0.9285714285714286],\n",
       " 'civics_government_economics': [0.21428571428571427, 0.7857142857142857],\n",
       " 'earlydevelopment_performingarts': [0.07142857142857142, 0.9285714285714286],\n",
       " 'extracurricular_other': [0.35714285714285715, 0.6428571428571429],\n",
       " 'college_careerprep_financialliteracy': [0.42857142857142855,\n",
       "  0.5714285714285714],\n",
       " 'foreignlanguages_specialneeds': [0.14285714285714285, 0.8571428571428571],\n",
       " 'history_geography_performingarts': [0.23076923076923078, 0.7692307692307693],\n",
       " 'financialliteracy_literacy': [0.23076923076923078, 0.7692307692307693],\n",
       " 'communityservice_extracurricular': [0.23076923076923078, 0.7692307692307693],\n",
       " 'extracurricular_performingarts': [0.0, 1.0],\n",
       " 'charactereducation_health_lifescience': [0.23076923076923078,\n",
       "  0.7692307692307693],\n",
       " 'health_wellness_socialsciences': [0.16666666666666666, 0.8333333333333334],\n",
       " 'charactereducation_teamsports': [0.3333333333333333, 0.6666666666666666],\n",
       " 'college_careerprep_health_wellness': [0.08333333333333333,\n",
       "  0.9166666666666666],\n",
       " 'health_wellness_performingarts': [0.16666666666666666, 0.8333333333333334],\n",
       " 'performingarts_specialneeds': [0.08333333333333333, 0.9166666666666666],\n",
       " 'appliedsciences_communityservice': [0.16666666666666666, 0.8333333333333334],\n",
       " 'charactereducation_esl': [0.3333333333333333, 0.6666666666666666],\n",
       " 'civics_government_financialliteracy': [0.08333333333333333,\n",
       "  0.9166666666666666],\n",
       " 'environmentalscience_performingarts': [0.25, 0.75],\n",
       " 'civics_government_visualarts': [0.25, 0.75],\n",
       " 'esl_music': [0.08333333333333333, 0.9166666666666666],\n",
       " 'financialliteracy_literature_writing': [0.08333333333333333,\n",
       "  0.9166666666666666],\n",
       " 'charactereducation_socialsciences': [0.2727272727272727, 0.7272727272727273],\n",
       " 'gym_fitness_visualarts': [0.36363636363636365, 0.6363636363636364],\n",
       " 'college_careerprep_music': [0.2727272727272727, 0.7272727272727273],\n",
       " 'economics_literacy': [0.09090909090909091, 0.9090909090909091],\n",
       " 'economics_socialsciences': [0.2727272727272727, 0.7272727272727273],\n",
       " 'appliedsciences_gym_fitness': [0.09090909090909091, 0.9090909090909091],\n",
       " 'extracurricular_health_wellness': [0.3, 0.7],\n",
       " 'other_parentinvolvement': [0.0, 1.0],\n",
       " 'esl_parentinvolvement': [0.2, 0.8],\n",
       " 'literature_writing_teamsports': [0.2, 0.8],\n",
       " 'esl_socialsciences': [0.2, 0.8],\n",
       " 'civics_government_health_lifescience': [0.2, 0.8],\n",
       " 'appliedsciences_civics_government': [0.2, 0.8],\n",
       " 'earlydevelopment_extracurricular': [0.1, 0.9],\n",
       " 'charactereducation_performingarts': [0.4, 0.6],\n",
       " 'environmentalscience_parentinvolvement': [0.1111111111111111,\n",
       "  0.8888888888888888],\n",
       " 'earlydevelopment_socialsciences': [0.1111111111111111, 0.8888888888888888],\n",
       " 'esl_other': [0.1111111111111111, 0.8888888888888888],\n",
       " 'communityservice_literacy': [0.1111111111111111, 0.8888888888888888],\n",
       " 'health_lifescience_other': [0.1111111111111111, 0.8888888888888888],\n",
       " 'foreignlanguages_visualarts': [0.4444444444444444, 0.5555555555555556],\n",
       " 'foreignlanguages_music': [0.4444444444444444, 0.5555555555555556],\n",
       " 'college_careerprep_esl': [0.375, 0.625],\n",
       " 'health_lifescience_parentinvolvement': [0.125, 0.875],\n",
       " 'economics_visualarts': [0.125, 0.875],\n",
       " 'communityservice_mathematics': [0.125, 0.875],\n",
       " 'civics_government_communityservice': [0.25, 0.75],\n",
       " 'performingarts_socialsciences': [0.25, 0.75],\n",
       " 'gym_fitness_performingarts': [0.125, 0.875],\n",
       " 'gym_fitness_literature_writing': [0.25, 0.75],\n",
       " 'history_geography_other': [0.375, 0.625],\n",
       " 'communityservice_health_wellness': [0.375, 0.625],\n",
       " 'esl_performingarts': [0.0, 1.0],\n",
       " 'performingarts_teamsports': [0.2857142857142857, 0.7142857142857143],\n",
       " 'music_teamsports': [0.2857142857142857, 0.7142857142857143],\n",
       " 'health_lifescience_music': [0.0, 1.0],\n",
       " 'civics_government_mathematics': [0.42857142857142855, 0.5714285714285714],\n",
       " 'communityservice_parentinvolvement': [0.0, 1.0],\n",
       " 'communityservice_earlydevelopment': [0.2857142857142857, 0.7142857142857143],\n",
       " 'nutritioneducation_other': [0.14285714285714285, 0.8571428571428571],\n",
       " 'mathematics_nutritioneducation': [0.2857142857142857, 0.7142857142857143],\n",
       " 'charactereducation_history_geography': [0.2857142857142857,\n",
       "  0.7142857142857143],\n",
       " 'environmentalscience_extracurricular': [0.5714285714285714,\n",
       "  0.42857142857142855],\n",
       " 'charactereducation_gym_fitness': [0.42857142857142855, 0.5714285714285714],\n",
       " 'literacy_teamsports': [0.14285714285714285, 0.8571428571428571],\n",
       " 'financialliteracy_history_geography': [0.0, 1.0],\n",
       " 'environmentalscience_financialliteracy': [0.0, 1.0],\n",
       " 'esl_financialliteracy': [0.5, 0.5],\n",
       " 'appliedsciences_teamsports': [0.16666666666666666, 0.8333333333333334],\n",
       " 'civics_government_college_careerprep': [0.3333333333333333,\n",
       "  0.6666666666666666],\n",
       " 'college_careerprep_nutritioneducation': [0.16666666666666666,\n",
       "  0.8333333333333334],\n",
       " 'health_lifescience_teamsports': [0.3333333333333333, 0.6666666666666666],\n",
       " 'earlydevelopment_nutritioneducation': [0.0, 1.0],\n",
       " 'gym_fitness_health_lifescience': [0.3333333333333333, 0.6666666666666666],\n",
       " 'gym_fitness_other': [0.0, 1.0],\n",
       " 'nutritioneducation_teamsports': [0.3333333333333333, 0.6666666666666666],\n",
       " 'charactereducation_civics_government': [0.2, 0.8],\n",
       " 'literacy_nutritioneducation': [0.4, 0.6],\n",
       " 'foreignlanguages_socialsciences': [0.0, 1.0],\n",
       " 'charactereducation_foreignlanguages': [0.2, 0.8],\n",
       " 'communityservice_socialsciences': [0.2, 0.8],\n",
       " 'extracurricular_health_lifescience': [0.6, 0.4],\n",
       " 'extracurricular_parentinvolvement': [0.2, 0.8],\n",
       " 'music_parentinvolvement': [0.2, 0.8],\n",
       " 'music_socialsciences': [0.4, 0.6],\n",
       " 'mathematics_teamsports': [0.2, 0.8],\n",
       " 'parentinvolvement_socialsciences': [0.2, 0.8],\n",
       " 'communityservice_health_lifescience': [0.2, 0.8],\n",
       " 'environmentalscience_music': [0.2, 0.8],\n",
       " 'environmentalscience_foreignlanguages': [0.4, 0.6],\n",
       " 'environmentalscience_other': [0.4, 0.6],\n",
       " 'earlydevelopment_financialliteracy': [0.2, 0.8],\n",
       " 'foreignlanguages_other': [0.25, 0.75],\n",
       " 'communityservice_other': [0.5, 0.5],\n",
       " 'communityservice_history_geography': [0.0, 1.0],\n",
       " 'appliedsciences_economics': [0.25, 0.75],\n",
       " 'economics_specialneeds': [0.5, 0.5],\n",
       " 'other_socialsciences': [0.25, 0.75],\n",
       " 'teamsports_visualarts': [0.5, 0.5],\n",
       " 'music_other': [0.5, 0.5],\n",
       " 'economics_environmentalscience': [0.25, 0.75],\n",
       " 'appliedsciences_nutritioneducation': [0.0, 1.0],\n",
       " 'earlydevelopment_teamsports': [0.25, 0.75],\n",
       " 'appliedsciences_foreignlanguages': [0.5, 0.5],\n",
       " 'communityservice_esl': [0.5, 0.5],\n",
       " 'gym_fitness_history_geography': [0.0, 1.0],\n",
       " 'health_lifescience_warmth_care_hunger': [0.3333333333333333,\n",
       "  0.6666666666666666],\n",
       " 'civics_government_performingarts': [0.3333333333333333, 0.6666666666666666],\n",
       " 'environmentalscience_warmth_care_hunger': [0.3333333333333333,\n",
       "  0.6666666666666666],\n",
       " 'nutritioneducation_visualarts': [0.0, 1.0],\n",
       " 'communityservice_economics': [0.3333333333333333, 0.6666666666666666],\n",
       " 'esl_extracurricular': [0.0, 1.0],\n",
       " 'health_lifescience_performingarts': [0.3333333333333333, 0.6666666666666666],\n",
       " 'other_teamsports': [0.0, 1.0],\n",
       " 'extracurricular_nutritioneducation': [0.3333333333333333,\n",
       "  0.6666666666666666],\n",
       " 'other_performingarts': [0.6666666666666666, 0.3333333333333333],\n",
       " 'foreignlanguages_health_wellness': [0.0, 1.0],\n",
       " 'esl_nutritioneducation': [0.0, 1.0],\n",
       " 'appliedsciences_financialliteracy': [0.3333333333333333, 0.6666666666666666],\n",
       " 'history_geography_teamsports': [0.3333333333333333, 0.6666666666666666],\n",
       " 'esl_gym_fitness': [0.3333333333333333, 0.6666666666666666],\n",
       " 'mathematics_warmth_care_hunger': [0.6666666666666666, 0.3333333333333333],\n",
       " 'financialliteracy_health_lifescience': [0.3333333333333333,\n",
       "  0.6666666666666666],\n",
       " 'financialliteracy_other': [0.3333333333333333, 0.6666666666666666],\n",
       " 'financialliteracy_socialsciences': [0.0, 1.0],\n",
       " 'civics_government_esl': [0.0, 1.0],\n",
       " 'charactereducation_warmth_care_hunger': [0.3333333333333333,\n",
       "  0.6666666666666666],\n",
       " 'parentinvolvement_performingarts': [0.0, 1.0],\n",
       " 'extracurricular_history_geography': [0.0, 1.0],\n",
       " 'environmentalscience_gym_fitness': [0.0, 1.0],\n",
       " 'appliedsciences_warmth_care_hunger': [0.5, 0.5],\n",
       " 'foreignlanguages_health_lifescience': [0.0, 1.0],\n",
       " 'nutritioneducation_socialsciences': [0.0, 1.0],\n",
       " 'economics_health_lifescience': [0.0, 1.0],\n",
       " 'earlydevelopment_economics': [0.5, 0.5],\n",
       " 'charactereducation_financialliteracy': [0.0, 1.0],\n",
       " 'nutritioneducation_warmth_care_hunger': [0.0, 1.0],\n",
       " 'communityservice_nutritioneducation': [1.0, 0.0],\n",
       " 'financialliteracy_health_wellness': [0.0, 1.0],\n",
       " 'earlydevelopment_history_geography': [0.0, 1.0],\n",
       " 'environmentalscience_teamsports': [0.0, 1.0],\n",
       " 'financialliteracy_visualarts': [0.0, 1.0],\n",
       " 'earlydevelopment_warmth_care_hunger': [0.0, 1.0],\n",
       " 'extracurricular_foreignlanguages': [0.0, 1.0],\n",
       " 'college_careerprep_teamsports': [0.0, 1.0],\n",
       " 'foreignlanguages_gym_fitness': [0.0, 1.0],\n",
       " 'civics_government_health_wellness': [0.0, 1.0],\n",
       " 'civics_government_extracurricular': [0.5, 0.5],\n",
       " 'communityservice_performingarts': [0.0, 1.0],\n",
       " 'college_careerprep_gym_fitness': [0.5, 0.5],\n",
       " 'literature_writing_warmth_care_hunger': [0.0, 1.0],\n",
       " 'extracurricular_socialsciences': [0.0, 1.0],\n",
       " 'earlydevelopment_foreignlanguages': [0.0, 1.0],\n",
       " 'socialsciences_teamsports': [0.0, 1.0],\n",
       " 'college_careerprep_economics': [0.0, 1.0],\n",
       " 'literacy_warmth_care_hunger': [0.0, 1.0],\n",
       " 'extracurricular_gym_fitness': [0.0, 1.0],\n",
       " 'other_warmth_care_hunger': [0.0, 1.0],\n",
       " 'economics_music': [0.0, 1.0],\n",
       " 'parentinvolvement_teamsports': [0.0, 1.0],\n",
       " 'economics_nutritioneducation': [0.0, 1.0],\n",
       " 'history_geography_warmth_care_hunger': [1.0, 0.0],\n",
       " 'civics_government_foreignlanguages': [0.0, 1.0],\n",
       " 'foreignlanguages_performingarts': [0.0, 1.0],\n",
       " 'communityservice_gym_fitness': [0.0, 1.0],\n",
       " 'history_geography_parentinvolvement': [0.0, 1.0],\n",
       " 'civics_government_nutritioneducation': [0.0, 1.0],\n",
       " 'charactereducation_nutritioneducation': [0.0, 1.0],\n",
       " 'economics_foreignlanguages': [0.0, 1.0],\n",
       " 'financialliteracy_foreignlanguages': [0.0, 1.0],\n",
       " 'financialliteracy_parentinvolvement': [0.0, 1.0],\n",
       " 'esl_teamsports': [0.0, 1.0],\n",
       " 'economics_other': [0.0, 1.0],\n",
       " 'gym_fitness_warmth_care_hunger': [0.0, 1.0],\n",
       " 'charactereducation_economics': [1.0, 0.0],\n",
       " 'literature_writing_nutritioneducation': [0.0, 1.0],\n",
       " 'health_wellness_parentinvolvement': [0.0, 1.0],\n",
       " 'esl_economics': [1.0, 0.0],\n",
       " 'civics_government_teamsports': [0.0, 1.0],\n",
       " 'visualarts_warmth_care_hunger': [1.0, 0.0],\n",
       " 'extracurricular_financialliteracy': [0.0, 1.0],\n",
       " 'gym_fitness_parentinvolvement': [0.0, 1.0]}"
      ]
     },
     "execution_count": 44,
     "metadata": {},
     "output_type": "execute_result"
    }
   ],
   "source": [
    "response_values('clean_subcategories', X_train)"
   ]
  },
  {
   "cell_type": "code",
   "execution_count": 51,
   "metadata": {},
   "outputs": [
    {
     "name": "stdout",
     "output_type": "stream",
     "text": [
      "After response coding :\n",
      "(73196, 2)\n",
      "(36052, 2)\n"
     ]
    }
   ],
   "source": [
    "X_train_clean_subcategories_res_code = array_response_code('clean_subcategories', X_train)\n",
    "X_test_clean_subcategories_code = array_response_code('clean_subcategories', X_test)\n",
    "\n",
    "print(\"After response coding :\")\n",
    "print(np.shape(X_train_clean_subcategories_res_code))\n",
    "print(np.shape(X_test_clean_subcategories_code))"
   ]
  },
  {
   "cell_type": "code",
   "execution_count": 53,
   "metadata": {},
   "outputs": [
    {
     "data": {
      "text/plain": [
       "{'mrs': [0.1448137848584869, 0.8551862151415132],\n",
       " 'ms': [0.1567528128720095, 0.8432471871279905],\n",
       " 'mr': [0.15772380683422763, 0.8422761931657724],\n",
       " 'teacher': [0.19395465994962216, 0.8060453400503779],\n",
       " 'dr': [0.5, 0.5]}"
      ]
     },
     "execution_count": 53,
     "metadata": {},
     "output_type": "execute_result"
    }
   ],
   "source": [
    "response_values('teacher_prefix', X_train)"
   ]
  },
  {
   "cell_type": "code",
   "execution_count": 54,
   "metadata": {},
   "outputs": [
    {
     "name": "stdout",
     "output_type": "stream",
     "text": [
      "After response coding :\n",
      "(73196, 2)\n",
      "(36052, 2)\n"
     ]
    }
   ],
   "source": [
    "X_train_teacher_prefix_res_code = array_response_code('teacher_prefix', X_train)\n",
    "X_test_teacher_prefix_code = array_response_code('teacher_prefix', X_test)\n",
    "\n",
    "print(\"After response coding :\")\n",
    "print(np.shape(X_train_teacher_prefix_res_code))\n",
    "print(np.shape(X_test_teacher_prefix_code))"
   ]
  },
  {
   "cell_type": "code",
   "execution_count": 55,
   "metadata": {},
   "outputs": [
    {
     "data": {
      "text/plain": [
       "{'ca': [0.13853830349280893, 0.8614616965071911],\n",
       " 'tx': [0.1874747474747475, 0.8125252525252525],\n",
       " 'ny': [0.1445978878960195, 0.8554021121039805],\n",
       " 'fl': [0.16610087293889428, 0.8338991270611057],\n",
       " 'nc': [0.1430260047281324, 0.8569739952718676],\n",
       " 'il': [0.14266258086482805, 0.8573374191351719],\n",
       " 'ga': [0.15867707172054998, 0.84132292827945],\n",
       " 'sc': [0.13895131086142323, 0.8610486891385768],\n",
       " 'mi': [0.1626704278326281, 0.8373295721673719],\n",
       " 'pa': [0.14851001465559355, 0.8514899853444065],\n",
       " 'in': [0.16280384397964953, 0.8371961560203505],\n",
       " 'mo': [0.1469248291571754, 0.8530751708428246],\n",
       " 'oh': [0.12226816302421736, 0.8777318369757826],\n",
       " 'la': [0.16448598130841122, 0.8355140186915888],\n",
       " 'ma': [0.13427109974424553, 0.8657289002557544],\n",
       " 'wa': [0.12572161642078256, 0.8742783835792175],\n",
       " 'nj': [0.15660252156602522, 0.8433974784339748],\n",
       " 'ok': [0.1620897521768252, 0.8379102478231748],\n",
       " 'az': [0.16378714581893572, 0.8362128541810643],\n",
       " 'va': [0.1464465183058148, 0.8535534816941852],\n",
       " 'wi': [0.1580246913580247, 0.8419753086419753],\n",
       " 'ut': [0.15397631133671744, 0.8460236886632826],\n",
       " 'al': [0.1558219178082192, 0.8441780821917808],\n",
       " 'ct': [0.12762237762237763, 0.8723776223776224],\n",
       " 'tn': [0.1444933920704846, 0.8555066079295154],\n",
       " 'md': [0.1636904761904762, 0.8363095238095238],\n",
       " 'nv': [0.14778856526429343, 0.8522114347357066],\n",
       " 'ms': [0.1753607103218646, 0.8246392896781354],\n",
       " 'ky': [0.13018433179723501, 0.869815668202765],\n",
       " 'or': [0.15393654524089306, 0.8460634547591069],\n",
       " 'mn': [0.1547314578005115, 0.8452685421994884],\n",
       " 'co': [0.16275862068965516, 0.8372413793103448],\n",
       " 'ar': [0.1652046783625731, 0.8347953216374269],\n",
       " 'id': [0.1504424778761062, 0.8495575221238938],\n",
       " 'ks': [0.14754098360655737, 0.8524590163934426],\n",
       " 'ia': [0.14823529411764705, 0.851764705882353],\n",
       " 'nm': [0.1385390428211587, 0.8614609571788413],\n",
       " 'hi': [0.15714285714285714, 0.8428571428571429],\n",
       " 'dc': [0.21714285714285714, 0.7828571428571428],\n",
       " 'wv': [0.14121037463976946, 0.8587896253602305],\n",
       " 'me': [0.15625, 0.84375],\n",
       " 'nh': [0.11764705882352941, 0.8823529411764706],\n",
       " 'ak': [0.16170212765957448, 0.8382978723404255],\n",
       " 'de': [0.12217194570135746, 0.8778280542986425],\n",
       " 'sd': [0.14150943396226415, 0.8584905660377359],\n",
       " 'ne': [0.155, 0.845],\n",
       " 'ri': [0.1631578947368421, 0.8368421052631579],\n",
       " 'mt': [0.18452380952380953, 0.8154761904761905],\n",
       " 'nd': [0.13402061855670103, 0.865979381443299],\n",
       " 'wy': [0.16666666666666666, 0.8333333333333334],\n",
       " 'vt': [0.16071428571428573, 0.8392857142857143]}"
      ]
     },
     "execution_count": 55,
     "metadata": {},
     "output_type": "execute_result"
    }
   ],
   "source": [
    "response_values('school_state', X_train)"
   ]
  },
  {
   "cell_type": "code",
   "execution_count": 56,
   "metadata": {},
   "outputs": [
    {
     "name": "stdout",
     "output_type": "stream",
     "text": [
      "After response coding :\n",
      "(73196, 2)\n",
      "(36052, 2)\n"
     ]
    }
   ],
   "source": [
    "X_train_school_state_res_code = array_response_code('school_state', X_train)\n",
    "X_test_school_state_code = array_response_code('school_state', X_test)\n",
    "\n",
    "print(\"After response coding :\")\n",
    "print(np.shape(X_train_school_state_res_code))\n",
    "print(np.shape(X_test_school_state_code))"
   ]
  },
  {
   "cell_type": "code",
   "execution_count": 57,
   "metadata": {},
   "outputs": [
    {
     "data": {
      "text/plain": [
       "{'Grades_PreK_2': [0.1530200887563942, 0.8469799112436058],\n",
       " 'Grades_3_5': [0.1461873725458835, 0.8538126274541166],\n",
       " 'Grades_6_8': [0.15360169491525424, 0.8463983050847458],\n",
       " 'Grades_9_12': [0.15940054495912806, 0.840599455040872]}"
      ]
     },
     "execution_count": 57,
     "metadata": {},
     "output_type": "execute_result"
    }
   ],
   "source": [
    "response_values('project_grade_category', X_train)"
   ]
  },
  {
   "cell_type": "code",
   "execution_count": 58,
   "metadata": {},
   "outputs": [
    {
     "name": "stdout",
     "output_type": "stream",
     "text": [
      "After response coding :\n",
      "(73196, 2)\n",
      "(36052, 2)\n"
     ]
    }
   ],
   "source": [
    "X_train_project_grade_category_res_code = array_response_code('project_grade_category', X_train)\n",
    "X_test_project_grade_category_code = array_response_code('project_grade_category', X_test)\n",
    "\n",
    "print(\"After response coding :\")\n",
    "print(np.shape(X_train_project_grade_category_res_code))\n",
    "print(np.shape(X_test_project_grade_category_code))"
   ]
  },
  {
   "cell_type": "code",
   "execution_count": 59,
   "metadata": {},
   "outputs": [
    {
     "name": "stdout",
     "output_type": "stream",
     "text": [
      "(73196, 1)\n",
      "(36052, 1)\n"
     ]
    }
   ],
   "source": [
    "from sklearn.preprocessing import Normalizer\n",
    "# Our first Numerical feature - 'price'\n",
    "normalizer = Normalizer()\n",
    "\n",
    "# As explainEd above first I will reshape(1, -1)\n",
    "normalizer.fit(X_train['price'].values.reshape(1, -1))\n",
    "\n",
    "train_normalized_price = normalizer.transform(X_train['price'].values.reshape(1, -1))\n",
    "\n",
    "test_df_normalized_price = normalizer.transform(X_test['price'].values.reshape(1, -1))\n",
    "\n",
    "# After normalization reshape again to (-1, 1) i.e. this time unknown rows (i.e. leaving it to Numpy to decide), and specifying I need 1 column\n",
    "train_normalized_price = train_normalized_price.reshape(-1, 1)\n",
    "\n",
    "\n",
    "test_df_normalized_price = test_df_normalized_price.reshape(-1, 1)\n",
    "print(train_normalized_price.shape)\n",
    "print(test_df_normalized_price.shape)"
   ]
  },
  {
   "cell_type": "code",
   "execution_count": 60,
   "metadata": {},
   "outputs": [
    {
     "name": "stdout",
     "output_type": "stream",
     "text": [
      "(73196, 1)\n",
      "(36052, 1)\n"
     ]
    }
   ],
   "source": [
    "### Normalizing next numerical feature: teacher_number_of_previously_posted_projects\n",
    "\n",
    "# Second Numerical feature - 'teacher_number_of_previously_posted_projects'\n",
    "normalizer = Normalizer()\n",
    "\n",
    "normalizer.fit(X_train['teacher_number_of_previously_posted_projects'].values.reshape(1, -1))\n",
    "\n",
    "train_normalized_teacher_number_of_previously_posted_projects = normalizer.transform(X_train['teacher_number_of_previously_posted_projects'].values.reshape(1, -1))\n",
    "\n",
    "test_df_normalized_teacher_number_of_previously_posted_projects = normalizer.transform(X_test['teacher_number_of_previously_posted_projects'].values.reshape(1, -1))\n",
    "\n",
    "# After normalization reshape again to (-1, 1) i.e. this time unknown rows (i.e. leaving it to Numpy to decide), and specifying I need 1 column\n",
    "train_normalized_teacher_number_of_previously_posted_projects = train_normalized_teacher_number_of_previously_posted_projects.reshape(-1, 1)\n",
    "\n",
    "test_df_normalized_teacher_number_of_previously_posted_projects = test_df_normalized_teacher_number_of_previously_posted_projects.reshape(-1, 1)\n",
    "print(train_normalized_teacher_number_of_previously_posted_projects.shape)\n",
    "\n",
    "print(test_df_normalized_teacher_number_of_previously_posted_projects.shape)"
   ]
  },
  {
   "cell_type": "code",
   "execution_count": 61,
   "metadata": {},
   "outputs": [
    {
     "name": "stdout",
     "output_type": "stream",
     "text": [
      "(73196, 1)\n",
      "(36052, 1)\n"
     ]
    }
   ],
   "source": [
    "### Normalizing next numerical feature: negative_sent\n",
    "\n",
    "# Second Numerical feature - 'negative_sent'\n",
    "normalizer = Normalizer()\n",
    "\n",
    "normalizer.fit(X_train['negative_sent'].values.reshape(1, -1))\n",
    "\n",
    "train_normalized_negative_sent = normalizer.transform(X_train['negative_sent'].values.reshape(1, -1))\n",
    "\n",
    "test_df_normalized_negative_sent = normalizer.transform(X_test['negative_sent'].values.reshape(1, -1))\n",
    "\n",
    "# After normalization reshape again to (-1, 1) i.e. this time unknown rows (i.e. leaving it to Numpy to decide), and specifying I need 1 column\n",
    "train_normalized_negative_sent = train_normalized_negative_sent.reshape(-1, 1)\n",
    "\n",
    "test_df_normalized_negative_sent = test_df_normalized_negative_sent.reshape(-1, 1)\n",
    "print(train_normalized_negative_sent.shape)\n",
    "\n",
    "print(test_df_normalized_negative_sent.shape)"
   ]
  },
  {
   "cell_type": "code",
   "execution_count": 62,
   "metadata": {},
   "outputs": [
    {
     "name": "stdout",
     "output_type": "stream",
     "text": [
      "(73196, 1)\n",
      "(36052, 1)\n"
     ]
    }
   ],
   "source": [
    "### Normalizing next numerical feature: negative_sent\n",
    "\n",
    "# Second Numerical feature - 'positive_sent'\n",
    "normalizer = Normalizer()\n",
    "\n",
    "normalizer.fit(X_train['positive_sent'].values.reshape(1, -1))\n",
    "\n",
    "train_normalized_positive_sent= normalizer.transform(X_train['positive_sent'].values.reshape(1, -1))\n",
    "\n",
    "test_df_normalized_positive_sent = normalizer.transform(X_test['positive_sent'].values.reshape(1, -1))\n",
    "\n",
    "# After normalization reshape again to (-1, 1) i.e. this time unknown rows (i.e. leaving it to Numpy to decide), and specifying I need 1 column\n",
    "train_normalized_positive_sent = train_normalized_positive_sent.reshape(-1, 1)\n",
    "\n",
    "test_df_normalized_positive_sent = test_df_normalized_positive_sent.reshape(-1, 1)\n",
    "print(train_normalized_positive_sent.shape)\n",
    "\n",
    "print(test_df_normalized_positive_sent.shape)"
   ]
  },
  {
   "cell_type": "code",
   "execution_count": 63,
   "metadata": {},
   "outputs": [
    {
     "name": "stdout",
     "output_type": "stream",
     "text": [
      "(73196, 1)\n",
      "(36052, 1)\n"
     ]
    }
   ],
   "source": [
    "### Normalizing next numerical feature: negative_sent\n",
    "\n",
    "# Second Numerical feature - 'neutral_sent'\n",
    "normalizer = Normalizer()\n",
    "\n",
    "normalizer.fit(X_train['neutral_sent'].values.reshape(1, -1))\n",
    "\n",
    "train_normalized_neutral_sent= normalizer.transform(X_train['neutral_sent'].values.reshape(1, -1))\n",
    "\n",
    "test_df_normalized_neutral_sent = normalizer.transform(X_test['neutral_sent'].values.reshape(1, -1))\n",
    "\n",
    "# After normalization reshape again to (-1, 1) i.e. this time unknown rows (i.e. leaving it to Numpy to decide), and specifying I need 1 column\n",
    "train_normalized_neutral_sent = train_normalized_neutral_sent.reshape(-1, 1)\n",
    "\n",
    "test_df_normalized_neutral_sent = test_df_normalized_neutral_sent.reshape(-1, 1)\n",
    "print(train_normalized_neutral_sent.shape)\n",
    "\n",
    "print(test_df_normalized_neutral_sent.shape)"
   ]
  },
  {
   "cell_type": "code",
   "execution_count": 64,
   "metadata": {},
   "outputs": [
    {
     "name": "stdout",
     "output_type": "stream",
     "text": [
      "(73196, 1)\n",
      "(36052, 1)\n"
     ]
    }
   ],
   "source": [
    "### Normalizing next numerical feature: negative_sent\n",
    "\n",
    "# Second Numerical feature - 'compound_sent'\n",
    "normalizer = Normalizer()\n",
    "\n",
    "normalizer.fit(X_train['compound_sent'].values.reshape(1, -1))\n",
    "\n",
    "train_normalized_compound_sent= normalizer.transform(X_train['compound_sent'].values.reshape(1, -1))\n",
    "\n",
    "test_df_normalized_compound_sent = normalizer.transform(X_test['compound_sent'].values.reshape(1, -1))\n",
    "\n",
    "# After normalization reshape again to (-1, 1) i.e. this time unknown rows (i.e. leaving it to Numpy to decide), and specifying I need 1 column\n",
    "train_normalized_compound_sent = train_normalized_compound_sent.reshape(-1, 1)\n",
    "\n",
    "test_df_normalized_compound_sent = test_df_normalized_compound_sent.reshape(-1, 1)\n",
    "print(train_normalized_compound_sent.shape)\n",
    "\n",
    "print(test_df_normalized_compound_sent.shape)"
   ]
  },
  {
   "cell_type": "markdown",
   "metadata": {},
   "source": [
    "# TFIDF"
   ]
  },
  {
   "cell_type": "code",
   "execution_count": 65,
   "metadata": {},
   "outputs": [
    {
     "name": "stdout",
     "output_type": "stream",
     "text": [
      "(73196, 14142)\n",
      "(36052, 14142)\n"
     ]
    }
   ],
   "source": [
    "## Encoding Essay column using tfidf\n",
    "from sklearn.feature_extraction.text import TfidfVectorizer\n",
    "\n",
    "vectorizer_essay_tfidf = TfidfVectorizer(min_df=10)\n",
    "\n",
    "train_vectorized_tfidf_essay = vectorizer_essay_tfidf.fit_transform(X_train['preprocessed_essays'])\n",
    "\n",
    "test_df_vectorized_tfidf_essay = vectorizer_essay_tfidf.transform(X_test['preprocessed_essays'])\n",
    "\n",
    "print(train_vectorized_tfidf_essay.shape)\n",
    "print(test_df_vectorized_tfidf_essay.shape)"
   ]
  },
  {
   "cell_type": "code",
   "execution_count": 66,
   "metadata": {},
   "outputs": [
    {
     "name": "stdout",
     "output_type": "stream",
     "text": [
      "(73196, 2544)\n",
      "(36052, 2544)\n"
     ]
    }
   ],
   "source": [
    "## Encoding preprocessed_titles column using tfidf\n",
    "from sklearn.feature_extraction.text import TfidfVectorizer\n",
    "\n",
    "vectorizer_preprocessed_titles_tfidf = TfidfVectorizer(min_df=10)\n",
    "\n",
    "train_vectorized_tfidf_preprocessed_titles = vectorizer_preprocessed_titles_tfidf.fit_transform(X_train['preprocessed_titles'])\n",
    "\n",
    "test_df_vectorized_tfidf_preprocessed_titles = vectorizer_preprocessed_titles_tfidf.transform(X_test['preprocessed_titles'])\n",
    "\n",
    "print(train_vectorized_tfidf_preprocessed_titles.shape)\n",
    "print(test_df_vectorized_tfidf_preprocessed_titles.shape)"
   ]
  },
  {
   "cell_type": "markdown",
   "metadata": {},
   "source": [
    "# TFIDF W2V"
   ]
  },
  {
   "cell_type": "code",
   "execution_count": 67,
   "metadata": {},
   "outputs": [],
   "source": [
    "with open('glove_vectors', 'rb') as f:\n",
    "    model = pickle.load(f)\n",
    "    glove_words =  set(model.keys())"
   ]
  },
  {
   "cell_type": "code",
   "execution_count": 68,
   "metadata": {},
   "outputs": [],
   "source": [
    "# In the TF-IDF Word2Vec vectorization, we have to fit the TfidfVectorizer only on X_train['essay'] and \n",
    "# extract 'dictionary' (dictionary with features as the keys and IDF scores as the values) and \n",
    "# 'tfidf_words' (a set of all the features extracted from the vectorizer). \n",
    "# We have to use the same 'dictionary' and 'tfidf_words' in vectorizing both X_train['essay'] and X_test['essay'].\n",
    "\n",
    "# Now, at the very top section of this Notebook, we alrady have this code of Vectorizer on X_train data\n",
    "# vectorizer_essay_tfidf = TfidfVectorizer(min_df=10)\n",
    "# vectorizer_essay_tfidf.fit(X_train['essay'].values)\n",
    "\n",
    "# Hence we are now converting a dictionary with word as a key, and the idf as a value\n",
    "dictionary = dict(zip(vectorizer_essay_tfidf.get_feature_names(), list(vectorizer_essay_tfidf.idf_)))\n",
    "tfidf_words = set(vectorizer_essay_tfidf.get_feature_names())"
   ]
  },
  {
   "cell_type": "code",
   "execution_count": 69,
   "metadata": {},
   "outputs": [
    {
     "name": "stderr",
     "output_type": "stream",
     "text": [
      "100%|████████████████████████████████████████████████████████████████████████████| 73196/73196 [12:20<00:00, 98.87it/s]\n",
      "100%|████████████████████████████████████████████████████████████████████████████| 36052/36052 [06:04<00:00, 98.98it/s]\n"
     ]
    }
   ],
   "source": [
    "# Function to generate Word2Vec weighted by tf-idf\n",
    "def generate_w2v_from_text(essays_text_arr):\n",
    "  # compute average word2vec for each review.\n",
    "    tfidf_w2v_vectors = []\n",
    "    # the avg-w2v for each sentence/review is stored in this list\n",
    "\n",
    "    for sentence in tqdm(essays_text_arr):  # for each sentence\n",
    "        vector = np.zeros(300)  # as word vectors are of zero length\n",
    "        tf_idf_weight = 0\n",
    "        # num of words with a valid vector in the sentence\n",
    "        for word in sentence.split():  # for each word in a sentence\n",
    "            if (word in glove_words) and (word in tfidf_words):\n",
    "                vec = model[word]  # getting the vector for each word\n",
    "                # here we are multiplying idf value(dictionary[word]) and the tf value((sentence.count(word)/len(sentence.split())))\n",
    "                tf_idf = dictionary[word] * (\n",
    "                    sentence.count(word) / len(sentence.split())\n",
    "                )  # getting the tfidf value for each word\n",
    "                vector += vec * tf_idf  # calculating tfidf weighted w2v\n",
    "                tf_idf_weight += tf_idf\n",
    "        if tf_idf_weight != 0:\n",
    "            vector /= tf_idf_weight\n",
    "        tfidf_w2v_vectors.append(vector)\n",
    "    return tfidf_w2v_vectors\n",
    "  \n",
    "X_train_vectorized_tfidf_w2v_essay = generate_w2v_from_text(X_train['preprocessed_essays'].values)\n",
    "X_test_vectorized_tfidf_w2v_essay = generate_w2v_from_text(X_test['preprocessed_essays'].values)"
   ]
  },
  {
   "cell_type": "code",
   "execution_count": 68,
   "metadata": {},
   "outputs": [
    {
     "data": {
      "text/plain": [
       "300"
      ]
     },
     "execution_count": 68,
     "metadata": {},
     "output_type": "execute_result"
    }
   ],
   "source": [
    "len(X_train_vectorized_tfidf_w2v_essay[0])"
   ]
  },
  {
   "cell_type": "code",
   "execution_count": 69,
   "metadata": {},
   "outputs": [
    {
     "data": {
      "text/plain": [
       "300"
      ]
     },
     "execution_count": 69,
     "metadata": {},
     "output_type": "execute_result"
    }
   ],
   "source": [
    "len(X_test_vectorized_tfidf_w2v_essay[0])"
   ]
  },
  {
   "cell_type": "code",
   "execution_count": 70,
   "metadata": {},
   "outputs": [],
   "source": [
    "# In the TF-IDF Word2Vec vectorization, we have to fit the TfidfVectorizer only on X_train['title'] and \n",
    "# extract 'dictionary' (dictionary with features as the keys and IDF scores as the values) and \n",
    "# 'tfidf_words' (a set of all the features extracted from the vectorizer). \n",
    "# We have to use the same 'dictionary' and 'tfidf_words' in vectorizing both X_train['title'] and X_test['title'].\n",
    "\n",
    "# Now, at the very top section of this Notebook, we alrady have this code of Vectorizer on X_train data\n",
    "# vectorizer_preprocessed_titles_tfidf = TfidfVectorizer(min_df=10)\n",
    "# vectorizer_preprocessed_titles_tfidf.fit(X_train['title'].values)\n",
    "\n",
    "# Hence we are now converting a dictionary with word as a key, and the idf as a value\n",
    "dictionary = dict(zip(vectorizer_preprocessed_titles_tfidf.get_feature_names(), list(vectorizer_preprocessed_titles_tfidf.idf_)))\n",
    "tfidf_words = set(vectorizer_preprocessed_titles_tfidf.get_feature_names())"
   ]
  },
  {
   "cell_type": "code",
   "execution_count": 71,
   "metadata": {},
   "outputs": [
    {
     "name": "stderr",
     "output_type": "stream",
     "text": [
      "100%|██████████████████████████████████████████████████████████████████████████| 73196/73196 [00:14<00:00, 5180.76it/s]\n",
      "100%|██████████████████████████████████████████████████████████████████████████| 36052/36052 [00:06<00:00, 5445.73it/s]\n"
     ]
    }
   ],
   "source": [
    "# Function to generate Word2Vec weighted by tf-idf\n",
    "def generate_w2v_from_text(title_text_arr):\n",
    "  # compute average word2vec for each review.\n",
    "    tfidf_w2v_vectors = []\n",
    "    # the avg-w2v for each sentence/review is stored in this list\n",
    "\n",
    "    for sentence in tqdm(title_text_arr):  # for each sentence\n",
    "        vector = np.zeros(300)  # as word vectors are of zero length\n",
    "        tf_idf_weight = 0\n",
    "        # num of words with a valid vector in the sentence\n",
    "        for word in sentence.split():  # for each word in a sentence\n",
    "            if (word in glove_words) and (word in tfidf_words):\n",
    "                vec = model[word]  # getting the vector for each word\n",
    "                # here we are multiplying idf value(dictionary[word]) and the tf value((sentence.count(word)/len(sentence.split())))\n",
    "                tf_idf = dictionary[word] * (\n",
    "                    sentence.count(word) / len(sentence.split())\n",
    "                )  # getting the tfidf value for each word\n",
    "                vector += vec * tf_idf  # calculating tfidf weighted w2v\n",
    "                tf_idf_weight += tf_idf\n",
    "        if tf_idf_weight != 0:\n",
    "            vector /= tf_idf_weight\n",
    "        tfidf_w2v_vectors.append(vector)\n",
    "    return tfidf_w2v_vectors\n",
    "  \n",
    "X_train_vectorized_tfidf_w2v_title = generate_w2v_from_text(X_train['preprocessed_titles'].values)\n",
    "X_test_vectorized_tfidf_w2v_title = generate_w2v_from_text(X_test['preprocessed_titles'].values)"
   ]
  },
  {
   "cell_type": "code",
   "execution_count": 181,
   "metadata": {},
   "outputs": [
    {
     "data": {
      "text/plain": [
       "300"
      ]
     },
     "execution_count": 181,
     "metadata": {},
     "output_type": "execute_result"
    }
   ],
   "source": [
    "len(X_test_vectorized_tfidf_w2v_title[0])"
   ]
  },
  {
   "cell_type": "code",
   "execution_count": 182,
   "metadata": {},
   "outputs": [
    {
     "data": {
      "text/plain": [
       "300"
      ]
     },
     "execution_count": 182,
     "metadata": {},
     "output_type": "execute_result"
    }
   ],
   "source": [
    "len(X_train_vectorized_tfidf_w2v_title[0])"
   ]
  },
  {
   "cell_type": "markdown",
   "metadata": {},
   "source": [
    "# Merging all categorical, text, numerical vectors,preprocessed Title,Preprocessed Essay and sentiment score based on TFIDF"
   ]
  },
  {
   "cell_type": "code",
   "execution_count": 128,
   "metadata": {},
   "outputs": [
    {
     "name": "stdout",
     "output_type": "stream",
     "text": [
      "X_train_hstacked_all_tfidf_features_vectorized.shape is  (73196, 16702)\n",
      "test_df_hstacked_all_tfidf_features_vectorized.shape is  (36052, 16702)\n"
     ]
    }
   ],
   "source": [
    "from scipy.sparse import hstack\n",
    "X_train_hstacked_all_tfidf_features_vectorized = hstack((X_train_clean_categories_res_code,X_train_clean_subcategories_res_code,X_train_teacher_prefix_res_code,X_train_project_grade_category_res_code, X_train_school_state_res_code, train_normalized_price, train_normalized_teacher_number_of_previously_posted_projects,train_vectorized_tfidf_essay,train_vectorized_tfidf_preprocessed_titles,train_normalized_negative_sent,train_normalized_positive_sent,train_normalized_neutral_sent,train_normalized_compound_sent))\n",
    "\n",
    "print('X_train_hstacked_all_tfidf_features_vectorized.shape is ', X_train_hstacked_all_tfidf_features_vectorized.shape)\n",
    "\n",
    "test_df_hstacked_all_tfidf_features_vectorized =  hstack((X_test_clean_categories_res_code,X_test_clean_subcategories_code,X_test_teacher_prefix_code,X_test_project_grade_category_code, X_test_school_state_code, test_df_normalized_price, test_df_normalized_teacher_number_of_previously_posted_projects,test_df_vectorized_tfidf_essay,test_df_vectorized_tfidf_preprocessed_titles,test_df_normalized_negative_sent,test_df_normalized_positive_sent,test_df_normalized_neutral_sent,test_df_normalized_compound_sent))\n",
    "\n",
    "print('test_df_hstacked_all_tfidf_features_vectorized.shape is ', test_df_hstacked_all_tfidf_features_vectorized.shape)"
   ]
  },
  {
   "cell_type": "markdown",
   "metadata": {},
   "source": [
    "# Applying GBDT Classifier on TFIDF(Set1):\n",
    "**Set 1: categorical by response coding, numerical features + preprocessed_eassay (TFIDF)+preprocessed_title (TFIDF)+Sentiment scores(preprocessed_essay)**"
   ]
  },
  {
   "cell_type": "code",
   "execution_count": 129,
   "metadata": {},
   "outputs": [],
   "source": [
    "from sklearn.model_selection import train_test_split\n",
    "import xgboost as xgb\n",
    "from sklearn.model_selection import GridSearchCV\n",
    "import seaborn as sea"
   ]
  },
  {
   "cell_type": "code",
   "execution_count": 130,
   "metadata": {},
   "outputs": [
    {
     "name": "stdout",
     "output_type": "stream",
     "text": [
      "Fitting 3 folds for each of 16 candidates, totalling 48 fits\n"
     ]
    },
    {
     "name": "stderr",
     "output_type": "stream",
     "text": [
      "[Parallel(n_jobs=-1)]: Using backend LokyBackend with 4 concurrent workers.\n",
      "[Parallel(n_jobs=-1)]: Done  48 out of  48 | elapsed: 58.5min finished\n"
     ]
    },
    {
     "data": {
      "text/plain": [
       "GridSearchCV(cv=3,\n",
       "             estimator=XGBClassifier(base_score=None, booster=None,\n",
       "                                     colsample_bylevel=None,\n",
       "                                     colsample_bynode=None,\n",
       "                                     colsample_bytree=None,\n",
       "                                     eval_metric='mlogloss', gamma=None,\n",
       "                                     gpu_id=None, importance_type='gain',\n",
       "                                     interaction_constraints=None,\n",
       "                                     learning_rate=None, max_delta_step=None,\n",
       "                                     max_depth=None, min_child_weight=None,\n",
       "                                     missing=nan, monotone_constraints=None,\n",
       "                                     n_estimators=100, n_jobs=None,\n",
       "                                     num_parallel_tree=None, random_state=42,\n",
       "                                     reg_alpha=None, reg_lambda=None,\n",
       "                                     scale_pos_weight=None, subsample=None,\n",
       "                                     tree_method=None, validate_parameters=None,\n",
       "                                     verbosity=None),\n",
       "             n_jobs=-1,\n",
       "             param_grid={'max_depth': [2, 3, 4, 5],\n",
       "                         'n_estimators': [5, 10, 50, 100]},\n",
       "             return_train_score=True, scoring='roc_auc', verbose=1)"
      ]
     },
     "execution_count": 130,
     "metadata": {},
     "output_type": "execute_result"
    }
   ],
   "source": [
    "Gb=XGBClassifier(random_state=42,eval_metric='mlogloss')\n",
    "n_estimators = [5, 10, 50, 100]\n",
    "depth = [2, 3, 4, 5]\n",
    "params = {'n_estimators':n_estimators, 'max_depth': depth}\n",
    "clf = GridSearchCV(Gb, params, cv=3, scoring='roc_auc',verbose=1,return_train_score=True,n_jobs=-1)\n",
    "clf.fit(X_train_hstacked_all_tfidf_features_vectorized, y_train)"
   ]
  },
  {
   "cell_type": "code",
   "execution_count": 131,
   "metadata": {},
   "outputs": [
    {
     "name": "stdout",
     "output_type": "stream",
     "text": [
      "XGBClassifier(base_score=0.5, booster='gbtree', colsample_bylevel=1,\n",
      "              colsample_bynode=1, colsample_bytree=1, eval_metric='mlogloss',\n",
      "              gamma=0, gpu_id=-1, importance_type='gain',\n",
      "              interaction_constraints='', learning_rate=0.300000012,\n",
      "              max_delta_step=0, max_depth=2, min_child_weight=1, missing=nan,\n",
      "              monotone_constraints='()', n_estimators=100, n_jobs=4,\n",
      "              num_parallel_tree=1, random_state=42, reg_alpha=0, reg_lambda=1,\n",
      "              scale_pos_weight=1, subsample=1, tree_method='exact',\n",
      "              validate_parameters=1, verbosity=None)\n"
     ]
    }
   ],
   "source": [
    "print(clf.best_estimator_)"
   ]
  },
  {
   "cell_type": "code",
   "execution_count": 132,
   "metadata": {},
   "outputs": [
    {
     "name": "stderr",
     "output_type": "stream",
     "text": [
      "100%|███████████████████████████████████████████████████████████████████████████████████| 4/4 [31:45<00:00, 476.38s/it]\n"
     ]
    }
   ],
   "source": [
    "max_depth = [2, 3, 4, 5]\n",
    "n_estimators = [5, 10, 50, 100]\n",
    "    \n",
    "def get_auc_matrix(x_train, x_test, y_train, y_test ):    \n",
    "\n",
    "    train_auc_final_arr, test_auc_final_arr = [], []\n",
    "\n",
    "    for depth in tqdm(max_depth):\n",
    "        train_auc_batch, test_auc_batch = [], []\n",
    "        \n",
    "        for num in n_estimators:\n",
    "            # Below gives large number of warnings \n",
    "            # xgb_clf = XGBClassifier(n_estimators=num, eta=l_rate, reg_alpha=0, reg_lambda=0, tree_method='gpu_hist')\n",
    "            \n",
    "            # below works after including eval_metric='mlogloss'\n",
    "            # xgb_clf = XGBClassifier(n_estimators=num, eval_metric='mlogloss', learning_rate=l_rate, reg_alpha=0, reg_lambda=0, tree_method='gpu_hist')\n",
    "            \n",
    "            xgb_clf = XGBClassifier(n_estimators=num, eval_metric='mlogloss',max_depth=depth , reg_alpha=0, reg_lambda=0)\n",
    "            \n",
    "            xgb_clf.fit(x_train, y_train)\n",
    "\n",
    "            # I have to predict probabilities (clf.predict_proba) instead of classes for calculating of ROC AUC score:\n",
    "            y_train_predicted = xgb_clf.predict_proba(x_train)[:, 1]\n",
    "            y_test_predicted = xgb_clf.predict_proba(x_test)[:, 1]\n",
    "\n",
    "            train_auc = roc_auc_score(y_train, y_train_predicted)\n",
    "            test_auc = roc_auc_score(y_test, y_test_predicted)\n",
    "\n",
    "            train_auc_batch.append(train_auc)\n",
    "            test_auc_batch.append(test_auc)\n",
    "        \n",
    "        train_auc_final_arr.append(train_auc_batch)\n",
    "        test_auc_final_arr.append(test_auc_batch)\n",
    "\n",
    "    return train_auc_final_arr, test_auc_final_arr\n",
    "\n",
    "\n",
    "train_auc_final_arr_s1, test_auc_final_arr_s1 = get_auc_matrix(X_train_hstacked_all_tfidf_features_vectorized, test_df_hstacked_all_tfidf_features_vectorized , y_train, y_test)\n"
   ]
  },
  {
   "cell_type": "markdown",
   "metadata": {},
   "source": [
    "**plot the performance of model both on train data and cross validation data for each hyper parameter**\n",
    "\n",
    "- seaborn heat maps with rows as max_depth, columns as n_estimators, and values inside the cell representing AUC Score."
   ]
  },
  {
   "cell_type": "code",
   "execution_count": 133,
   "metadata": {},
   "outputs": [
    {
     "data": {
      "image/png": "[encoded data removed]",
      "text/plain": [
       "<Figure size 720x720 with 2 Axes>"
      ]
     },
     "metadata": {},
     "output_type": "display_data"
    }
   ],
   "source": [
    "## Heatmap for Set S1\n",
    "\n",
    "train_auc_final_df_s1 = pd.DataFrame(train_auc_final_arr_s1,columns=n_estimators, index=max_depth)\n",
    "fig, ax = plt.subplots(1, figsize=(10,10))\n",
    "sns.heatmap(train_auc_final_df_s1, annot=True, fmt='.4g', ax=ax,cmap=\"YlOrRd\")\n",
    "ax.set_title('Train Set')\n",
    "plt.show()\n",
    "# train_auc_final_df_s1"
   ]
  },
  {
   "cell_type": "code",
   "execution_count": 134,
   "metadata": {},
   "outputs": [
    {
     "data": {
      "image/png": "[encoded data removed]",
      "text/plain": [
       "<Figure size 720x720 with 2 Axes>"
      ]
     },
     "metadata": {},
     "output_type": "display_data"
    }
   ],
   "source": [
    "## Heatmap for Set S1\n",
    "\n",
    "test_auc_final_df_s1 = pd.DataFrame(test_auc_final_arr_s1,columns=n_estimators, index=max_depth)\n",
    "fig, ax = plt.subplots(1, figsize=(10,10))\n",
    "sns.heatmap(test_auc_final_df_s1, annot=True, fmt='.4g', ax=ax,cmap=\"PuBuGn\")\n",
    "ax.set_title('Test Set')\n",
    "plt.show()\n",
    "# test_auc_final_df_s1"
   ]
  },
  {
   "cell_type": "markdown",
   "metadata": {},
   "source": [
    "**plot the ROC curve on both train and test**"
   ]
  },
  {
   "cell_type": "code",
   "execution_count": 135,
   "metadata": {},
   "outputs": [
    {
     "data": {
      "image/png": "[encoded data removed]",
      "text/plain": [
       "<Figure size 432x288 with 1 Axes>"
      ]
     },
     "metadata": {},
     "output_type": "display_data"
    }
   ],
   "source": [
    "#https://scikitlearn.org/stable/modules/generated/sklearn.metrics.roc_curve.html#sklearn.metrics.roc_curve\n",
    "from sklearn.metrics import roc_curve, auc\n",
    "xgb_tfidf_Model = XGBClassifier(eval_metric='mlogloss',n_estimators=100,max_depth=2)\n",
    "xgb_tfidf_Model.fit(X_train_hstacked_all_tfidf_features_vectorized, y_train)\n",
    "# roc_auc_score(y_true, y_score) the 2nd parameter should be probability estimates of the positive class\n",
    "# not the predicted outputs\n",
    "# y_train_pred = batch_predict(mnb_bow_testModel, x_train_onehot_bow)\n",
    "y_train_pred=xgb_tfidf_Model.predict_proba(X_train_hstacked_all_tfidf_features_vectorized)[:,1]\n",
    "predictions_train_set1=xgb_tfidf_Model.predict(X_train_hstacked_all_tfidf_features_vectorized)\n",
    "\n",
    "y_test_pred=xgb_tfidf_Model.predict_proba(test_df_hstacked_all_tfidf_features_vectorized)[:,1]\n",
    "predictions_test_set1=xgb_tfidf_Model.predict(test_df_hstacked_all_tfidf_features_vectorized)\n",
    "\n",
    "\n",
    "train_fpr, train_tpr, tr_thresholds = roc_curve(y_train, y_train_pred)\n",
    "test_fpr, test_tpr, te_thresholds = roc_curve(y_test, y_test_pred)\n",
    "\n",
    "plt.plot(train_fpr, train_tpr, label=\"Train AUC =\"+str(auc(train_fpr, train_tpr)))\n",
    "plt.plot(test_fpr, test_tpr, label=\"Test AUC =\"+str(auc(test_fpr, test_tpr)))\n",
    "plt.legend()\n",
    "plt.xlabel(\"False Positive Rate(FPR)\")\n",
    "plt.ylabel(\"True Positive Rate(TPR)\")\n",
    "plt.title(\"Roc Curve\")\n",
    "plt.grid()\n",
    "plt.show()"
   ]
  },
  {
   "cell_type": "markdown",
   "metadata": {},
   "source": [
    "**Confusion Matrix**"
   ]
  },
  {
   "cell_type": "code",
   "execution_count": 136,
   "metadata": {},
   "outputs": [],
   "source": [
    "def predict(proba, threshould, fpr, tpr):\n",
    "    \n",
    "    t = threshould[np.argmax(fpr*(1-tpr))]\n",
    "    print(\"the maximum value of tpr*(1-fpr)\", max(tpr*(1-fpr)), \"for threshold\", np.round(t,3))\n",
    "    predictions = []\n",
    "    global predictions1\n",
    "    for i in proba:\n",
    "        if i>=t:\n",
    "            predictions.append(1)\n",
    "        else:\n",
    "            predictions.append(0)\n",
    "    predictions1 = predictions\n",
    "    return predictions"
   ]
  },
  {
   "cell_type": "code",
   "execution_count": 137,
   "metadata": {},
   "outputs": [
    {
     "name": "stdout",
     "output_type": "stream",
     "text": [
      "the maximum value of tpr*(1-fpr) 0.4838547738648873 for threshold 0.846\n",
      "the maximum value of tpr*(1-fpr) 0.43712825364814983 for threshold 0.839\n"
     ]
    },
    {
     "data": {
      "image/png": "[encoded data removed]",
      "text/plain": [
       "<Figure size 864x360 with 4 Axes>"
      ]
     },
     "metadata": {},
     "output_type": "display_data"
    }
   ],
   "source": [
    "#https://www.quantinsti.com/blog/creating-heatmap-using-python-seaborn\n",
    "import seaborn as sns; sns.set()\n",
    "\n",
    "con_m_train = confusion_matrix(y_train, predict(y_train_pred, tr_thresholds, train_fpr, train_tpr))\n",
    "con_m_test = confusion_matrix(y_test, predict(y_test_pred, te_thresholds, test_fpr, test_tpr))\n",
    "\n",
    "key = (np.asarray([['TN','FP'], ['FN', 'TP']]))\n",
    "fig, ax = plt.subplots(1,2, figsize=(12,5)) \n",
    "\n",
    "labels_train = (np.asarray([\"{0} = {1:.2f}\" .format(key, value) for key, value in zip(key.flatten(), con_m_train.flatten())])).reshape(2,2)\n",
    "labels_test = (np.asarray([\"{0} = {1:.2f}\" .format(key, value) for key, value in zip(key.flatten(), con_m_test.flatten())])).reshape(2,2)\n",
    "\n",
    "sns.heatmap(con_m_train, linewidths=.5, xticklabels=['PREDICTED : NO', 'PREDICTED : YES'],yticklabels=['ACTUAL : NO', 'ACTUAL : YES'], annot = labels_train, fmt = '', ax=ax[0])\n",
    "sns.heatmap(con_m_test, linewidths=.5, xticklabels=['PREDICTED : NO', 'PREDICTED : YES'], yticklabels=['ACTUAL : NO', 'ACTUAL : YES'], annot = labels_test, fmt = '', ax=ax[1])\n",
    "\n",
    "ax[0].set_title('Train Set')\n",
    "ax[1].set_title('Test Set')\n",
    "\n",
    "plt.show()"
   ]
  },
  {
   "cell_type": "markdown",
   "metadata": {},
   "source": [
    "# Merging all categorical, text, numerical vectors,preprocessed Title,Preprocessed Essay based on TFIDF_W2V:"
   ]
  },
  {
   "cell_type": "code",
   "execution_count": 72,
   "metadata": {},
   "outputs": [
    {
     "name": "stdout",
     "output_type": "stream",
     "text": [
      "(73196, 300)\n"
     ]
    }
   ],
   "source": [
    "from scipy.sparse import coo_matrix\n",
    "X_train_essay_w2v=coo_matrix(X_train_vectorized_tfidf_w2v_essay)\n",
    "print(X_train_essay_w2v.shape)"
   ]
  },
  {
   "cell_type": "code",
   "execution_count": 73,
   "metadata": {},
   "outputs": [
    {
     "name": "stdout",
     "output_type": "stream",
     "text": [
      "(36052, 300)\n"
     ]
    }
   ],
   "source": [
    "from scipy.sparse import coo_matrix\n",
    "X_test_essay_w2v=coo_matrix(X_test_vectorized_tfidf_w2v_essay)\n",
    "print(X_test_essay_w2v.shape)"
   ]
  },
  {
   "cell_type": "code",
   "execution_count": 74,
   "metadata": {},
   "outputs": [
    {
     "name": "stdout",
     "output_type": "stream",
     "text": [
      "X_train_hstacked_all_tfidf_w2v_features_vectorized.shape is  (73196, 612)\n",
      "test_df_hstacked_all_tfidf_w2v_features_vectorized.shape is  (36052, 612)\n"
     ]
    }
   ],
   "source": [
    "from scipy.sparse import hstack\n",
    "X_train_hstacked_all_tfidf_w2v_features_vectorized = hstack((X_train_clean_categories_res_code,X_train_clean_subcategories_res_code,X_train_teacher_prefix_res_code,X_train_project_grade_category_res_code, X_train_school_state_res_code, train_normalized_price, train_normalized_teacher_number_of_previously_posted_projects,X_train_essay_w2v,X_train_vectorized_tfidf_w2v_title))\n",
    "\n",
    "print('X_train_hstacked_all_tfidf_w2v_features_vectorized.shape is ', X_train_hstacked_all_tfidf_w2v_features_vectorized.shape)\n",
    "\n",
    "test_df_hstacked_all_tfidf_w2v_features_vectorized =  hstack((X_test_clean_categories_res_code,X_test_clean_subcategories_code,X_test_teacher_prefix_code,X_test_project_grade_category_code, X_test_school_state_code, test_df_normalized_price, test_df_normalized_teacher_number_of_previously_posted_projects,X_test_essay_w2v,X_test_vectorized_tfidf_w2v_title))\n",
    "\n",
    "print('test_df_hstacked_all_tfidf_w2v_features_vectorized.shape is ', test_df_hstacked_all_tfidf_w2v_features_vectorized.shape)"
   ]
  },
  {
   "cell_type": "markdown",
   "metadata": {},
   "source": [
    "# Apply GBDT Classifier(XGB Classifier) on these feature sets\n",
    "**Set 2: categorical by response code, numerical features + preprocessed_essay (TFIDF W2V) + preprocessed_title (TFIDF W2V)**"
   ]
  },
  {
   "cell_type": "code",
   "execution_count": 75,
   "metadata": {},
   "outputs": [
    {
     "name": "stdout",
     "output_type": "stream",
     "text": [
      "Fitting 3 folds for each of 16 candidates, totalling 48 fits\n"
     ]
    },
    {
     "name": "stderr",
     "output_type": "stream",
     "text": [
      "[Parallel(n_jobs=-1)]: Using backend LokyBackend with 4 concurrent workers.\n",
      "[Parallel(n_jobs=-1)]: Done  48 out of  48 | elapsed: 275.5min finished\n"
     ]
    },
    {
     "data": {
      "text/plain": [
       "GridSearchCV(cv=3,\n",
       "             estimator=XGBClassifier(base_score=None, booster=None,\n",
       "                                     colsample_bylevel=None,\n",
       "                                     colsample_bynode=None,\n",
       "                                     colsample_bytree=None,\n",
       "                                     eval_metric='mlogloss', gamma=None,\n",
       "                                     gpu_id=None, importance_type='gain',\n",
       "                                     interaction_constraints=None,\n",
       "                                     learning_rate=None, max_delta_step=None,\n",
       "                                     max_depth=None, min_child_weight=None,\n",
       "                                     missing=nan, monotone_constraints=None,\n",
       "                                     n_estimators=100, n_jobs=None,\n",
       "                                     num_parallel_tree=None, random_state=42,\n",
       "                                     reg_alpha=None, reg_lambda=None,\n",
       "                                     scale_pos_weight=None, subsample=None,\n",
       "                                     tree_method=None, validate_parameters=None,\n",
       "                                     verbosity=None),\n",
       "             n_jobs=-1,\n",
       "             param_grid={'max_depth': [2, 3, 4, 5],\n",
       "                         'n_estimators': [5, 10, 50, 100]},\n",
       "             return_train_score=True, scoring='roc_auc', verbose=1)"
      ]
     },
     "execution_count": 75,
     "metadata": {},
     "output_type": "execute_result"
    }
   ],
   "source": [
    "Gb=XGBClassifier(random_state=42,eval_metric='mlogloss')\n",
    "n_estimators = [5, 10, 50, 100]\n",
    "depth = [2, 3, 4, 5]\n",
    "params = {'n_estimators':n_estimators, 'max_depth': depth}\n",
    "classifier = GridSearchCV(Gb, params, cv=3, scoring='roc_auc',verbose=1,return_train_score=True,n_jobs=-1)\n",
    "classifier.fit(X_train_hstacked_all_tfidf_w2v_features_vectorized, y_train)"
   ]
  },
  {
   "cell_type": "code",
   "execution_count": 76,
   "metadata": {},
   "outputs": [
    {
     "name": "stdout",
     "output_type": "stream",
     "text": [
      "XGBClassifier(base_score=0.5, booster='gbtree', colsample_bylevel=1,\n",
      "              colsample_bynode=1, colsample_bytree=1, eval_metric='mlogloss',\n",
      "              gamma=0, gpu_id=-1, importance_type='gain',\n",
      "              interaction_constraints='', learning_rate=0.300000012,\n",
      "              max_delta_step=0, max_depth=2, min_child_weight=1, missing=nan,\n",
      "              monotone_constraints='()', n_estimators=100, n_jobs=4,\n",
      "              num_parallel_tree=1, random_state=42, reg_alpha=0, reg_lambda=1,\n",
      "              scale_pos_weight=1, subsample=1, tree_method='exact',\n",
      "              validate_parameters=1, verbosity=None)\n"
     ]
    }
   ],
   "source": [
    "print(classifier.best_estimator_)"
   ]
  },
  {
   "cell_type": "code",
   "execution_count": 75,
   "metadata": {},
   "outputs": [
    {
     "name": "stderr",
     "output_type": "stream",
     "text": [
      "100%|████████████████████████████████████████████████████████████████████████████████| 4/4 [1:58:59<00:00, 1784.98s/it]\n"
     ]
    }
   ],
   "source": [
    "max_depth = [2, 3, 4, 5]\n",
    "n_estimators = [5, 10, 50, 100]\n",
    "    \n",
    "def get_auc_matrix(x_train, x_test, y_train, y_test ):    \n",
    "\n",
    "    train_auc_final_arr, test_auc_final_arr = [], []\n",
    "\n",
    "    for depth in tqdm(max_depth):\n",
    "        train_auc_batch, test_auc_batch = [], []\n",
    "        \n",
    "        for num in n_estimators:\n",
    "            # Below gives large number of warnings \n",
    "            # xgb_clf = XGBClassifier(n_estimators=num, eta=l_rate, reg_alpha=0, reg_lambda=0, tree_method='gpu_hist')\n",
    "            \n",
    "            # below works after including eval_metric='mlogloss'\n",
    "            # xgb_clf = XGBClassifier(n_estimators=num, eval_metric='mlogloss', learning_rate=l_rate, reg_alpha=0, reg_lambda=0, tree_method='gpu_hist')\n",
    "            \n",
    "            # Only changing the name of the parameter learning_rate to eta\n",
    "            xgb_clf = XGBClassifier(n_estimators=num, eval_metric='mlogloss',max_depth=depth , reg_alpha=0, reg_lambda=0)\n",
    "            \n",
    "            xgb_clf.fit(x_train, y_train)\n",
    "\n",
    "            # I have to predict probabilities (clf.predict_proba) instead of classes for calculating of ROC AUC score:\n",
    "            y_train_predicted = xgb_clf.predict_proba(x_train)[:, 1]\n",
    "            y_test_predicted = xgb_clf.predict_proba(x_test)[:, 1]\n",
    "\n",
    "            train_auc = roc_auc_score(y_train, y_train_predicted)\n",
    "            test_auc = roc_auc_score(y_test, y_test_predicted)\n",
    "\n",
    "            train_auc_batch.append(train_auc)\n",
    "            test_auc_batch.append(test_auc)\n",
    "        \n",
    "        train_auc_final_arr.append(train_auc_batch)\n",
    "        test_auc_final_arr.append(test_auc_batch)\n",
    "\n",
    "    return train_auc_final_arr, test_auc_final_arr\n",
    "\n",
    "\n",
    "train_auc_final_arr_s2, test_auc_final_arr_s2 = get_auc_matrix(X_train_hstacked_all_tfidf_w2v_features_vectorized, test_df_hstacked_all_tfidf_w2v_features_vectorized , y_train, y_test)\n"
   ]
  },
  {
   "cell_type": "code",
   "execution_count": 76,
   "metadata": {},
   "outputs": [
    {
     "data": {
      "image/png": "[encoded data removed]",
      "text/plain": [
       "<Figure size 720x720 with 2 Axes>"
      ]
     },
     "metadata": {},
     "output_type": "display_data"
    }
   ],
   "source": [
    "## Heatmap for Set S2\n",
    "\n",
    "train_auc_final_df_s2 = pd.DataFrame(train_auc_final_arr_s2,columns=n_estimators, index=max_depth)\n",
    "fig, ax = plt.subplots(1, figsize=(10,10))\n",
    "sns.heatmap(train_auc_final_df_s2, annot=True, fmt='.4g', ax=ax,cmap=\"YlOrRd\")\n",
    "ax.set_title('Train Set')\n",
    "plt.show()\n",
    "# train_auc_final_df_s2"
   ]
  },
  {
   "cell_type": "code",
   "execution_count": 77,
   "metadata": {},
   "outputs": [
    {
     "data": {
      "image/png": "[encoded data removed]",
      "text/plain": [
       "<Figure size 720x720 with 2 Axes>"
      ]
     },
     "metadata": {},
     "output_type": "display_data"
    }
   ],
   "source": [
    "## Heatmap for Set S2\n",
    "\n",
    "test_auc_final_df_s2 = pd.DataFrame(test_auc_final_arr_s2,columns=n_estimators, index=max_depth)\n",
    "fig, ax = plt.subplots(1, figsize=(10,10))\n",
    "sns.heatmap(test_auc_final_df_s2, annot=True, fmt='.4g', ax=ax,cmap=\"PuBuGn\")\n",
    "ax.set_title('Test Set')\n",
    "plt.show()\n",
    "# test_auc_final_df_s2"
   ]
  },
  {
   "cell_type": "code",
   "execution_count": 78,
   "metadata": {},
   "outputs": [
    {
     "data": {
      "image/png": "[encoded data removed]",
      "text/plain": [
       "<Figure size 432x288 with 1 Axes>"
      ]
     },
     "metadata": {},
     "output_type": "display_data"
    }
   ],
   "source": [
    "#https://scikitlearn.org/stable/modules/generated/sklearn.metrics.roc_curve.html#sklearn.metrics.roc_curve\n",
    "from sklearn.metrics import roc_curve, auc\n",
    "xgb_tfidf_w2v_Model = XGBClassifier(eval_metric='mlogloss',n_estimators=100,max_depth=2)\n",
    "xgb_tfidf_w2v_Model.fit(X_train_hstacked_all_tfidf_w2v_features_vectorized, y_train)\n",
    "# roc_auc_score(y_true, y_score) the 2nd parameter should be probability estimates of the positive class\n",
    "# not the predicted outputs\n",
    "# y_train_pred = batch_predict(mnb_bow_testModel, x_train_onehot_bow)\n",
    "y_train_pred=xgb_tfidf_w2v_Model.predict_proba(X_train_hstacked_all_tfidf_w2v_features_vectorized)[:,1]\n",
    "predictions_train_set1=xgb_tfidf_w2v_Model.predict(X_train_hstacked_all_tfidf_w2v_features_vectorized)\n",
    "\n",
    "y_test_pred=xgb_tfidf_w2v_Model.predict_proba(test_df_hstacked_all_tfidf_w2v_features_vectorized)[:,1]\n",
    "predictions_test_set1=xgb_tfidf_w2v_Model.predict(test_df_hstacked_all_tfidf_w2v_features_vectorized)\n",
    "\n",
    "\n",
    "train_fpr, train_tpr, tr_thresholds = roc_curve(y_train, y_train_pred)\n",
    "test_fpr, test_tpr, te_thresholds = roc_curve(y_test, y_test_pred)\n",
    "\n",
    "plt.plot(train_fpr, train_tpr, label=\"Train AUC =\"+str(auc(train_fpr, train_tpr)))\n",
    "plt.plot(test_fpr, test_tpr, label=\"Test AUC =\"+str(auc(test_fpr, test_tpr)))\n",
    "plt.legend()\n",
    "plt.xlabel(\"False Positive Rate(FPR)\")\n",
    "plt.ylabel(\"True Positive Rate(TPR)\")\n",
    "plt.title(\"Roc Curve\")\n",
    "plt.grid()\n",
    "plt.show()"
   ]
  },
  {
   "cell_type": "code",
   "execution_count": 79,
   "metadata": {},
   "outputs": [],
   "source": [
    "def predict(proba, threshould, fpr, tpr):\n",
    "    \n",
    "    t = threshould[np.argmax(fpr*(1-tpr))]\n",
    "    print(\"the maximum value of tpr*(1-fpr)\", max(tpr*(1-fpr)), \"for threshold\", np.round(t,3))\n",
    "    predictions = []\n",
    "    global predictions1\n",
    "    for i in proba:\n",
    "        if i>=t:\n",
    "            predictions.append(1)\n",
    "        else:\n",
    "            predictions.append(0)\n",
    "    predictions1 = predictions\n",
    "    return predictions"
   ]
  },
  {
   "cell_type": "code",
   "execution_count": 80,
   "metadata": {},
   "outputs": [
    {
     "name": "stdout",
     "output_type": "stream",
     "text": [
      "the maximum value of tpr*(1-fpr) 0.47637898345486945 for threshold 0.854\n",
      "the maximum value of tpr*(1-fpr) 0.4262495541584087 for threshold 0.843\n"
     ]
    },
    {
     "data": {
      "image/png": "[encoded data removed]",
      "text/plain": [
       "<Figure size 864x360 with 4 Axes>"
      ]
     },
     "metadata": {},
     "output_type": "display_data"
    }
   ],
   "source": [
    "#https://www.quantinsti.com/blog/creating-heatmap-using-python-seaborn\n",
    "import seaborn as sns; sns.set()\n",
    "\n",
    "con_m_train = confusion_matrix(y_train, predict(y_train_pred, tr_thresholds, train_fpr, train_tpr))\n",
    "con_m_test = confusion_matrix(y_test, predict(y_test_pred, te_thresholds, test_fpr, test_tpr))\n",
    "\n",
    "key = (np.asarray([['TN','FP'], ['FN', 'TP']]))\n",
    "fig, ax = plt.subplots(1,2, figsize=(12,5)) \n",
    "\n",
    "labels_train = (np.asarray([\"{0} = {1:.2f}\" .format(key, value) for key, value in zip(key.flatten(), con_m_train.flatten())])).reshape(2,2)\n",
    "labels_test = (np.asarray([\"{0} = {1:.2f}\" .format(key, value) for key, value in zip(key.flatten(), con_m_test.flatten())])).reshape(2,2)\n",
    "\n",
    "sns.heatmap(con_m_train, linewidths=.5, xticklabels=['PREDICTED : NO', 'PREDICTED : YES'],yticklabels=['ACTUAL : NO', 'ACTUAL : YES'], annot = labels_train, fmt = '', ax=ax[0])\n",
    "sns.heatmap(con_m_test, linewidths=.5, xticklabels=['PREDICTED : NO', 'PREDICTED : YES'], yticklabels=['ACTUAL : NO', 'ACTUAL : YES'], annot = labels_test, fmt = '', ax=ax[1])\n",
    "\n",
    "ax[0].set_title('Train Set')\n",
    "ax[1].set_title('Test Set')\n",
    "\n",
    "plt.show()"
   ]
  },
  {
   "cell_type": "markdown",
   "metadata": {},
   "source": [
    "# Conclusion:"
   ]
  },
  {
   "cell_type": "code",
   "execution_count": 81,
   "metadata": {},
   "outputs": [
    {
     "name": "stdout",
     "output_type": "stream",
     "text": [
      "+--------------+-------------+--------------+-------------+\n",
      "|  Vectorizer  |  Max_depth  | n_estimators |  Test -AUC  |\n",
      "+--------------+-------------+--------------+-------------+\n",
      "|   Tf - Idf   |      2      |     100      |    71.56    |\n",
      "|  Tf_idf W2v  |      2      |     100      |    70.33    |\n",
      "+--------------+-------------+--------------+-------------+\n"
     ]
    }
   ],
   "source": [
    "# Please compare all your models using Prettytable library\n",
    "#how to use pretty table http://zetcode.com/python/prettytable/\n",
    "from prettytable import PrettyTable\n",
    "tb = PrettyTable()\n",
    "tb.field_names= (\" Vectorizer \", \" Max_depth \", \"n_estimators\",\" Test -AUC \")\n",
    "tb.add_row([\" Tf - Idf\", 2 , 100 , 71.56 ])\n",
    "tb.add_row([\"Tf_idf W2v\", 2 , 100 ,70.33])\n",
    "print(tb.get_string(titles = \"GBDT- Observations\"))"
   ]
  },
  {
   "cell_type": "markdown",
   "metadata": {},
   "source": [
    "Refernce:\n",
    "    \n",
    "- https://colab.research.google.com/drive/170sML9x7Edz3vpCJAvbWy81_DUABhJvr\n",
    "- https://github.com/FaisalRasheed99/Applying-Random-Forest-and-XGBoost-on-Donors-Choose-Dataset/blob/master/9_DonorsChoose_RF_GBDT-Solution.ipynb"
   ]
  }
 ],
 "metadata": {
  "kernelspec": {
   "display_name": "Python 3",
   "language": "python",
   "name": "python3"
  },
  "language_info": {
   "codemirror_mode": {
    "name": "ipython",
    "version": 3
   },
   "file_extension": ".py",
   "mimetype": "text/x-python",
   "name": "python",
   "nbconvert_exporter": "python",
   "pygments_lexer": "ipython3",
   "version": "3.8.5"
  }
 },
 "nbformat": 4,
 "nbformat_minor": 4
}
